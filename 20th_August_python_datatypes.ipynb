{
 "cells": [
  {
   "cell_type": "markdown",
   "id": "a7fb542a-c0e5-49e5-8963-598c39abcb5e",
   "metadata": {},
   "source": [
    "# Python Basic data Types Assignment 2"
   ]
  },
  {
   "cell_type": "markdown",
   "id": "9aeac420-8bba-4666-8ee9-0a1b02cb074d",
   "metadata": {},
   "source": [
    "# TOPIC:- STRING BASED ASSIGNMENT QUESTION"
   ]
  },
  {
   "cell_type": "code",
   "execution_count": 94,
   "id": "265202a3-1281-4e82-a548-0e742068076b",
   "metadata": {},
   "outputs": [
    {
     "name": "stdout",
     "output_type": "stream",
     "text": [
      "gnirtS eht esrever ot margorp a etirW\n"
     ]
    }
   ],
   "source": [
    "# Question:-1 Write a program to reverse the String\n",
    "\n",
    "word = \"Write a program to reverse the String\"\n",
    "print(word[::-1])"
   ]
  },
  {
   "cell_type": "code",
   "execution_count": 7,
   "id": "611b4d4f-7551-4dff-a666-6afd2bf6ba73",
   "metadata": {},
   "outputs": [
    {
     "name": "stdin",
     "output_type": "stream",
     "text": [
      "Enter the string director\n"
     ]
    },
    {
     "name": "stdout",
     "output_type": "stream",
     "text": [
      "director is not a palindrome.\n"
     ]
    }
   ],
   "source": [
    "# Question:-2 Check if a string is palindrome\n",
    "\n",
    "word = input(\"Enter the string\")\n",
    "\n",
    "# Check if the word is a palindrome\n",
    "is_palindrome = word.lower() == word.lower()[::-1]\n",
    "\n",
    "if is_palindrome is True:\n",
    "    print(f\"{word} is a palindrome.\")\n",
    "else:\n",
    "    print(f\"{word} is not a palindrome.\")"
   ]
  },
  {
   "cell_type": "code",
   "execution_count": 8,
   "id": "12b8424e-dc5d-4564-bfaf-e80d05eb383f",
   "metadata": {},
   "outputs": [
    {
     "name": "stdout",
     "output_type": "stream",
     "text": [
      "DIRECTOR\n"
     ]
    }
   ],
   "source": [
    "# Question:-3 Convert a string to upper Case\n",
    "\n",
    "print(word.upper())"
   ]
  },
  {
   "cell_type": "code",
   "execution_count": 9,
   "id": "56fde12a-b4d8-463d-8f93-af6b3d224baa",
   "metadata": {},
   "outputs": [
    {
     "name": "stdout",
     "output_type": "stream",
     "text": [
      "director\n"
     ]
    }
   ],
   "source": [
    "# Question:-4 Convert a string to lower Case\n",
    "\n",
    "print(word.lower())"
   ]
  },
  {
   "cell_type": "code",
   "execution_count": 2,
   "id": "34011f21-b802-4b4d-9116-c84c800344d5",
   "metadata": {},
   "outputs": [
    {
     "name": "stdout",
     "output_type": "stream",
     "text": [
      "The number of vowels in 'Counts the number of vowel in the string' is: 11\n"
     ]
    }
   ],
   "source": [
    "# Question:-5 Counts the number of vowel in the string\n",
    "text = \"Counts the number of vowel in the string\"\n",
    "\n",
    "# Count vowels without using loop or function\n",
    "vowel_count = sum(text.lower().count(vowel) for vowel in \"aeiou\")\n",
    "\n",
    "print(f\"The number of vowels in '{text}' is: {vowel_count}\")"
   ]
  },
  {
   "cell_type": "code",
   "execution_count": 6,
   "id": "75a1826a-e41c-4495-80a1-ac11090eb6ae",
   "metadata": {},
   "outputs": [
    {
     "name": "stdout",
     "output_type": "stream",
     "text": [
      "The number of Consonants in 'Counts the number of Consonants in the string' is: 26\n"
     ]
    }
   ],
   "source": [
    "# Question:-6 Counts the number of Consonants in the string\n",
    "text = \"Counts the number of Consonants in the string\"\n",
    "\n",
    "# Count vowels without using loop or function\n",
    "consonant_count = sum(text.lower().count(consonant) for consonant in \"bcdfghjklmnpqrstvwxyz\")\n",
    "\n",
    "print(f\"The number of Consonants in '{text}' is: {consonant_count}\")"
   ]
  },
  {
   "cell_type": "code",
   "execution_count": 7,
   "id": "2ea60bbd-114f-4cd8-893f-003695e155ae",
   "metadata": {},
   "outputs": [
    {
     "name": "stdout",
     "output_type": "stream",
     "text": [
      "Removeallwhitespacesfromastring.\n"
     ]
    }
   ],
   "source": [
    "# Question:-7 Remove all whitespaces from a string.\n",
    "\n",
    "word = \"Remove all whitespaces from a string.\"\n",
    "print(word.replace(\" \", \"\"))"
   ]
  },
  {
   "cell_type": "code",
   "execution_count": 95,
   "id": "480bf05c-1185-43d1-a589-097c53d7ea60",
   "metadata": {},
   "outputs": [
    {
     "name": "stdout",
     "output_type": "stream",
     "text": [
      "63\n"
     ]
    }
   ],
   "source": [
    "# Question:-8 Find the length of a string without using the `len()` function.\n",
    "\n",
    "word = \"Find the length of a string without using the `len()` function.\"\n",
    "count = 0\n",
    "\n",
    "for each in word:\n",
    "    count += 1\n",
    "    \n",
    "print(count)"
   ]
  },
  {
   "cell_type": "code",
   "execution_count": 96,
   "id": "a39df6ee-397a-4603-8456-a953292a36d8",
   "metadata": {},
   "outputs": [
    {
     "name": "stdin",
     "output_type": "stream",
     "text": [
      "enter the word  if\n"
     ]
    },
    {
     "name": "stdout",
     "output_type": "stream",
     "text": [
      "String contains this specific word if\n"
     ]
    }
   ],
   "source": [
    "# Question:-9 Check if a string contains a specific word.\n",
    "\n",
    "word = \"Check if a string contains a specific word.\"\n",
    "subword = input(\"enter the word \")\n",
    "\n",
    "if subword in word:\n",
    "    print(f\"String contains this specific word {subword}\")\n",
    "else:\n",
    "    print(f\"String does not contains this specific word {subword}\")  "
   ]
  },
  {
   "cell_type": "code",
   "execution_count": 22,
   "id": "ebfdeafc-d952-46ae-8b65-0ccf6712e91d",
   "metadata": {},
   "outputs": [
    {
     "name": "stdout",
     "output_type": "stream",
     "text": [
      "Replace a word in a string with diffrent word.\n"
     ]
    }
   ],
   "source": [
    "# Question:-10 Replace a word in a string with another word.\n",
    "\n",
    "word = \"Replace a word in a string with another word.\"\n",
    "print(word.replace(\"another\",\"diffrent\"))"
   ]
  },
  {
   "cell_type": "code",
   "execution_count": 24,
   "id": "8923267a-82ef-499e-8567-48eae50fa529",
   "metadata": {},
   "outputs": [
    {
     "name": "stdin",
     "output_type": "stream",
     "text": [
      "Enter the word a\n"
     ]
    },
    {
     "name": "stdout",
     "output_type": "stream",
     "text": [
      "the number of occurence of a in word is 2\n"
     ]
    }
   ],
   "source": [
    "# Question:-11 Count the occurrences of a word in a string.\n",
    "\n",
    "word = \"Count the occurrences of a word in a string.\"\n",
    "sub = input(\"Enter the word\")\n",
    "count = 0\n",
    "for each in word:\n",
    "    if each == sub:\n",
    "        count += 1\n",
    "\n",
    "print(f\"the number of occurence of {sub} in word is {count}\")"
   ]
  },
  {
   "cell_type": "code",
   "execution_count": 29,
   "id": "08ea842a-2f04-485c-9103-b1dd22e5d505",
   "metadata": {},
   "outputs": [
    {
     "name": "stdout",
     "output_type": "stream",
     "text": [
      "Find the first occurrence of a word in a string is 29\n"
     ]
    }
   ],
   "source": [
    "# Question:-12 Find the first occurrence of a word in a string.\n",
    "\n",
    "def first_occurence_word(text , word):\n",
    "    index = text.find(word)\n",
    "    \n",
    "    if index == -1:\n",
    "        return None\n",
    "    \n",
    "    return index\n",
    "\n",
    "text = \"Find the first occurrence of a word in a string.\"\n",
    "word = \"a\"\n",
    "result = first_occurence_word(text,word)\n",
    "print(f\"Find the first occurrence of a word in a string is {result}\")"
   ]
  },
  {
   "cell_type": "code",
   "execution_count": 30,
   "id": "53780e9a-d5f6-44bb-8b03-55adb3c2a146",
   "metadata": {},
   "outputs": [
    {
     "name": "stdout",
     "output_type": "stream",
     "text": [
      "Find the last occurrence of a word in a string is 10\n"
     ]
    }
   ],
   "source": [
    "# Question:-13 Find the last occurrence of a word in a string.\n",
    "\n",
    "def last_occurence_word(text , word):\n",
    "    index = text.rfind(word)\n",
    "    \n",
    "    if index == -1:\n",
    "        return None\n",
    "    \n",
    "    return index\n",
    "\n",
    "text = \"Find the last occurrence of a word in a string.\"\n",
    "word = \"a\"\n",
    "result = first_occurence_word(text,word)\n",
    "print(f\"Find the last occurrence of a word in a string is {result}\")"
   ]
  },
  {
   "cell_type": "code",
   "execution_count": 31,
   "id": "40d8dff4-4621-42c0-a801-abf0f1b0f569",
   "metadata": {},
   "outputs": [
    {
     "name": "stdout",
     "output_type": "stream",
     "text": [
      "['Find', 'the', 'last', 'occurrence', 'of', 'a', 'word', 'in', 'a', 'string.']\n"
     ]
    }
   ],
   "source": [
    "# Question:-14 Split a string into a list of words.\n",
    "\n",
    "text = \"Find the last occurrence of a word in a string.\"\n",
    "print(text.split())"
   ]
  },
  {
   "cell_type": "code",
   "execution_count": 36,
   "id": "4939832d-73a1-4729-ad3a-69ed996579c1",
   "metadata": {},
   "outputs": [
    {
     "name": "stdout",
     "output_type": "stream",
     "text": [
      "Find the last occurrence of a word in a string.\n"
     ]
    }
   ],
   "source": [
    "# Question:-15 Join a list of words into a string..\n",
    "\n",
    "word = text.split()\n",
    "print(''.join(text))"
   ]
  },
  {
   "cell_type": "code",
   "execution_count": 37,
   "id": "09d9505b-ccbc-4024-bd98-f2cfacde551a",
   "metadata": {},
   "outputs": [
    {
     "name": "stdout",
     "output_type": "stream",
     "text": [
      "Convert_a_string_where_words_are_separated_by_spaces_to_one_where_words_are_separated_by_underscores.\n"
     ]
    }
   ],
   "source": [
    "# Question:-16 Convert a string where words are separated by spaces to one where words are separated by underscores.\n",
    "\n",
    "word = \"Convert a string where words are separated by spaces to one where words are separated by underscores.\" \n",
    "print(word.replace(\" \", \"_\"))"
   ]
  },
  {
   "cell_type": "code",
   "execution_count": 57,
   "id": "ecaf9313-a9eb-4c06-8f4a-d633fe396316",
   "metadata": {},
   "outputs": [
    {
     "name": "stdin",
     "output_type": "stream",
     "text": [
      "Enter the word Convert\n"
     ]
    },
    {
     "name": "stdout",
     "output_type": "stream",
     "text": [
      "the above string start with Convert \n"
     ]
    }
   ],
   "source": [
    "# Question:-17 Check if a string starts with a specific word or phrase.\n",
    "\n",
    "word = \"Convert a string where words are separated by spaces to one where words are separated by underscores.\" \n",
    "stword = input(\"Enter the word\")\n",
    "word_list = word.split()\n",
    "if stword == word_list[0]:\n",
    "    print(f\"The above string start with {stword} \")\n",
    "else:\n",
    "    print(f\"The above string not start with {stword}\")"
   ]
  },
  {
   "cell_type": "code",
   "execution_count": 59,
   "id": "45daf85b-6abd-4930-bf8b-8644d86e7814",
   "metadata": {},
   "outputs": [
    {
     "name": "stdin",
     "output_type": "stream",
     "text": [
      "Enter the word with\n"
     ]
    },
    {
     "name": "stdout",
     "output_type": "stream",
     "text": [
      "the above string not ends with with\n"
     ]
    }
   ],
   "source": [
    "# Question:-18 Check if a string ends with a specific word or phrase.\n",
    "\n",
    "word = \"Check if a string ends with a specific word or phrase\" \n",
    "stword = input(\"Enter the word\")\n",
    "word_list = word.split()\n",
    "if stword == word_list[-1]:\n",
    "    print(f\"The above string ends with {stword}\")\n",
    "else:\n",
    "    print(f\"The above string not ends with {stword}\")"
   ]
  },
  {
   "cell_type": "code",
   "execution_count": 3,
   "id": "9fe1ac44-2e90-4dc9-8204-d94d0e120377",
   "metadata": {},
   "outputs": [
    {
     "name": "stdout",
     "output_type": "stream",
     "text": [
      "Converted A String To Title Case \n"
     ]
    }
   ],
   "source": [
    "# Question:-19 Convert a string to title case (e.g., \"hello world\" to \"Hello World\")..\n",
    "\n",
    "word = \"Converted a string to title case \" \n",
    "print(word.title())"
   ]
  },
  {
   "cell_type": "code",
   "execution_count": 41,
   "id": "66e49b9f-ac1f-48b1-9b2c-218970e41c3a",
   "metadata": {},
   "outputs": [
    {
     "name": "stdout",
     "output_type": "stream",
     "text": [
      "Longest word in the string is longest\n"
     ]
    }
   ],
   "source": [
    "# Question:-20 Find the longest  word in a string.\n",
    "\n",
    "def longest_word_in_string(word):\n",
    "    word_list = word.split()\n",
    "    len_count = 0\n",
    "    longest_word = \"\"\n",
    "    for each in word_list:\n",
    "        if len(each) > len_count:\n",
    "            len_count = len(each)\n",
    "            longest_word = each\n",
    "    return longest_word\n",
    "\n",
    "word = \"Find the longest word in a string\"\n",
    "longest_word = longest_word_in_string(word)\n",
    "print(f\"Longest word in the string is {longest_word}\")      "
   ]
  },
  {
   "cell_type": "code",
   "execution_count": 24,
   "id": "18ddf3eb-0d5d-436e-9fa9-f4ef0f7cb003",
   "metadata": {},
   "outputs": [
    {
     "name": "stdout",
     "output_type": "stream",
     "text": [
      "shortest word in the string is a\n"
     ]
    }
   ],
   "source": [
    "# Question:-21 Find the Shortest word in a string.\n",
    "\n",
    "def shortest_word_in_string(word):\n",
    "    word = word.split()\n",
    "    shortest_word = min(word, key=len)\n",
    "    return shortest_word\n",
    "\n",
    "word = \"Find the Shortest word in a string\"\n",
    "\n",
    "shortest_word = shortest_word_in_string(word)\n",
    "print(f\"shortest word in the string is {shortest_word}\")      "
   ]
  },
  {
   "cell_type": "code",
   "execution_count": 19,
   "id": "3fe5fb65-398e-46e9-9200-29ce7633645a",
   "metadata": {},
   "outputs": [
    {
     "name": "stdout",
     "output_type": "stream",
     "text": [
      "esreveR eht redro fo sdrow ni eht gnirts\n"
     ]
    }
   ],
   "source": [
    "# Question:-22 Reverse the order of words in the string.\n",
    "\n",
    "def reverse_order(word):\n",
    "    word_list1 = []\n",
    "    for each in word.split():\n",
    "        word_list1.append(each[::-1])\n",
    "    \n",
    "    print(' '.join(word_list1))\n",
    "\n",
    "\n",
    "word = \"Reverse the order of words in the string\"\n",
    "reverse_order(word)"
   ]
  },
  {
   "cell_type": "code",
   "execution_count": 36,
   "id": "ae3baf73-79a7-47d2-8cee-7940d431ab42",
   "metadata": {},
   "outputs": [
    {
     "name": "stdout",
     "output_type": "stream",
     "text": [
      "The string \"Check if a string is alphanumeric\" is not alphanumeric.\n"
     ]
    }
   ],
   "source": [
    "# Question:-23 Check if a string is alphanumeric.\n",
    "\n",
    "def is_alphanumeric(input_string):\n",
    "    return input_string.isalnum()\n",
    "\n",
    "word = \"Check if a string is alphanumeric\"\n",
    "result = is_alphanumeric(word)\n",
    "\n",
    "if result:\n",
    "    print(f'The string \"{word}\" is alphanumeric.')\n",
    "else:\n",
    "    print(f'The string \"{word}\" is not alphanumeric.')\n"
   ]
  },
  {
   "cell_type": "code",
   "execution_count": 27,
   "id": "fbf2a215-310d-403c-94ce-581db37e2050",
   "metadata": {},
   "outputs": [
    {
     "name": "stdout",
     "output_type": "stream",
     "text": [
      "101234\n"
     ]
    }
   ],
   "source": [
    "# Question:-24 Extract all digits from a string.\n",
    "\n",
    "def extract_digit(word):\n",
    "    print(''.join(each for each in word if each.isdigit()))\n",
    "\n",
    "word = \"Extract total 10 all digits from a string. 1234\"\n",
    "extract_digit(word)"
   ]
  },
  {
   "cell_type": "code",
   "execution_count": 32,
   "id": "dcd1a697-eb29-4144-a6fb-d1137f9949be",
   "metadata": {},
   "outputs": [
    {
     "name": "stdout",
     "output_type": "stream",
     "text": [
      "Extracttotalalldigitsfromastring\n"
     ]
    }
   ],
   "source": [
    "# Question:-25 Extract all alphabets from a string.\n",
    "\n",
    "def extract_digit(word):\n",
    "    print(''.join(each for each in word if each.isalpha()))\n",
    "\n",
    "word = \"Extract total 10 all digits from a string. 1234\"\n",
    "extract_digit(word)"
   ]
  },
  {
   "cell_type": "code",
   "execution_count": 45,
   "id": "93f98111-75e4-465b-9f87-868b946d977e",
   "metadata": {},
   "outputs": [
    {
     "name": "stdout",
     "output_type": "stream",
     "text": [
      "5\n"
     ]
    }
   ],
   "source": [
    "# Question:- 26 Count the number of uppercase letters in a string.\n",
    "\n",
    "def count_upper(word):\n",
    "    count = 0\n",
    "    for each in word:\n",
    "        if each.isupper():\n",
    "            count += 1\n",
    "        \n",
    "    return count\n",
    "\n",
    "word = \"Count the Number of uppErcase leTTers in a string.\"\n",
    "count_upper = count_upper(word)\n",
    "print(count_upper)"
   ]
  },
  {
   "cell_type": "code",
   "execution_count": 46,
   "id": "3bfa297a-20f9-49ba-9573-c7079f374603",
   "metadata": {},
   "outputs": [
    {
     "name": "stdout",
     "output_type": "stream",
     "text": [
      "36\n"
     ]
    }
   ],
   "source": [
    "# Question:- 27 Count the number of lowercase letters in a string.\n",
    "\n",
    "def count_lower(word):\n",
    "    count = 0\n",
    "    for each in word:\n",
    "        if each.islower():\n",
    "            count += 1\n",
    "        \n",
    "    return count\n",
    "\n",
    "word = \"Count the Number of Lowercase leTTers in a string.\"\n",
    "count_lower = count_lower(word)\n",
    "print(count_lower)"
   ]
  },
  {
   "cell_type": "code",
   "execution_count": 65,
   "id": "d3abcbb0-9dc3-4e1d-b5ef-dc5c82299996",
   "metadata": {},
   "outputs": [
    {
     "name": "stdout",
     "output_type": "stream",
     "text": [
      "sWAP THE CAsE OF EACH CHAracTER IN A STRING \n"
     ]
    }
   ],
   "source": [
    "# Question:- 28 Swap the case of each character in a string.\n",
    "\n",
    "def swap_case(word):\n",
    "    word_list = \"\"\n",
    "    for each in word.split():\n",
    "        for each_char in each:\n",
    "            if each_char.islower():\n",
    "                word_list += each_char.upper()\n",
    "            elif each_char.isupper():\n",
    "                word_list += each_char.lower()\n",
    "                \n",
    "        word_list += \" \"\n",
    "    return word_list\n",
    "\n",
    "word = \"Swap the caSe of each chaRACter in a string.\"\n",
    "swap_case = swap_case(word)\n",
    "print(swap_case)"
   ]
  },
  {
   "cell_type": "code",
   "execution_count": 69,
   "id": "7b75f332-3136-42d8-83c0-0704427ba3ad",
   "metadata": {},
   "outputs": [
    {
     "name": "stdout",
     "output_type": "stream",
     "text": [
      "Remove a specific from a string.\n"
     ]
    }
   ],
   "source": [
    "# Question:- 29 Remove a specific word from a string.\n",
    "\n",
    "word = \"Remove a specific word from a string.\"\n",
    "word_list = word.split()\n",
    "word_list.remove(\"word\")\n",
    "print(' '.join(word_list))\n"
   ]
  },
  {
   "cell_type": "code",
   "execution_count": 4,
   "id": "0776f52c-5c0d-448e-b0f5-d1f268826636",
   "metadata": {},
   "outputs": [
    {
     "name": "stdout",
     "output_type": "stream",
     "text": [
      "True\n",
      "False\n"
     ]
    }
   ],
   "source": [
    "# Question:- 30 Check if a string is a valid email address.\n",
    "\n",
    "import re  # Import the regular expression module\n",
    "\n",
    "def is_valid_email(email):\n",
    "    pattern = r'^[\\w\\.-]+@[\\w\\.-]+\\.\\w+$'  # Regular expression pattern for a basic email validation\n",
    "    if re.match(pattern, email):\n",
    "        return True\n",
    "    else:\n",
    "        return False\n",
    "\n",
    "# Example email addresses\n",
    "email1 = \"rahulojha5434@gmail.com\"\n",
    "email2 = \"rahul.ojha@work\"\n",
    "result1 = is_valid_email(email1)\n",
    "result2 = is_valid_email(email2)\n",
    "print(result1)\n",
    "print(result2)"
   ]
  },
  {
   "cell_type": "code",
   "execution_count": 155,
   "id": "963c6c5d-b159-4744-87c2-f2c7e2851ef5",
   "metadata": {},
   "outputs": [
    {
     "name": "stdout",
     "output_type": "stream",
     "text": [
      "example\n"
     ]
    }
   ],
   "source": [
    "# Question:- 31 Extract the username from an email address string.\n",
    "\n",
    "def extract_username(email):\n",
    "    username = email.split('@')[0]  # Split the email address at \"@\" and take the first part\n",
    "    return username\n",
    "\n",
    "# Example email address\n",
    "email = \"example@email.com\"\n",
    "result = extract_username(email)\n",
    "print(result)"
   ]
  },
  {
   "cell_type": "code",
   "execution_count": 1,
   "id": "b1c7c351-7e30-4533-91d3-f6023e086372",
   "metadata": {},
   "outputs": [
    {
     "name": "stdout",
     "output_type": "stream",
     "text": [
      "email.com\n"
     ]
    }
   ],
   "source": [
    "# Question:- 32 Extract the domain from an email address string.\n",
    "\n",
    "def extract_username(email):\n",
    "    username = email.split('@')[1]  # Split the email address at \"@\" and take the first part\n",
    "    return username\n",
    "\n",
    "# Example email address\n",
    "email = \"example@email.com\"\n",
    "result = extract_username(email)\n",
    "print(result)"
   ]
  },
  {
   "cell_type": "code",
   "execution_count": 6,
   "id": "2bba6385-a867-4e0c-8b1a-d7e472261d25",
   "metadata": {},
   "outputs": [
    {
     "name": "stdout",
     "output_type": "stream",
     "text": [
      "Replace  multiple  spaces in a string with a single space.\n",
      "Replace multiple spaces in a string with a single space.\n"
     ]
    }
   ],
   "source": [
    "# Question:- 33 Replace multiple spaces in a string with a single space.\n",
    "\n",
    "word = \"Replace  multiple  spaces in a string with a single space.\"\n",
    "print(word)\n",
    "print(word.replace(\"  \",\" \"))"
   ]
  },
  {
   "cell_type": "code",
   "execution_count": 7,
   "id": "2b40da50-51ee-4c99-aaeb-62f189dea213",
   "metadata": {},
   "outputs": [
    {
     "name": "stdout",
     "output_type": "stream",
     "text": [
      "True\n",
      "False\n"
     ]
    }
   ],
   "source": [
    "# Question:- 34 Check if a string is a valid URL.\n",
    "from urllib.parse import urlparse\n",
    "\n",
    "def is_valid_url(url):\n",
    "    try:\n",
    "        result = urlparse(url)\n",
    "        return all([result.scheme, result.netloc])  # Check if both scheme and netloc are present\n",
    "    except ValueError:\n",
    "        return False\n",
    "\n",
    "# Example URLs\n",
    "url1 = \"https://yellow-author-ezjuf.pwskills.app/lab/tree/work/17th_November_python_datatypes.ipynb\"\n",
    "url2 = \"Check if a string is a valid URL.\"\n",
    "result1 = is_valid_url(url1)\n",
    "result2 = is_valid_url(url2)\n",
    "print(result1)  # Should print True\n",
    "print(result2)  # Should print False"
   ]
  },
  {
   "cell_type": "code",
   "execution_count": 10,
   "id": "3e35397c-aa6a-434e-9600-fe9bcf952fa0",
   "metadata": {},
   "outputs": [
    {
     "name": "stdout",
     "output_type": "stream",
     "text": [
      "https\n"
     ]
    }
   ],
   "source": [
    "# Question:- 35 Extract the protocol (http or https) from a URL string.\n",
    "\n",
    "def extract_protocol(url):\n",
    "    protocol =  url.find(\"://\")\n",
    "    print(url[:protocol])\n",
    "                         \n",
    "extract_protocol(\"https://lab.pwskills.com/my-labs\")    "
   ]
  },
  {
   "cell_type": "code",
   "execution_count": null,
   "id": "c0a82956-7800-492c-a35d-1b217cb5568b",
   "metadata": {},
   "outputs": [
    {
     "name": "stdout",
     "output_type": "stream",
     "text": [
      "{'F': 1, 'i': 3, 'n': 4, 'd': 1, ' ': 8, 't': 3, 'h': 3, 'e': 5, 'f': 2, 'r': 4, 'q': 1, 'u': 1, 'c': 4, 'y': 1, 'o': 1, 'a': 4, 's': 1, 'g': 1, '.': 1}\n"
     ]
    }
   ],
   "source": [
    "# Question:- 36 Find the frequency of each character in a string.\n",
    "\n",
    "def freq_char(word):\n",
    "    freq_dict = {}\n",
    "    for each in word:\n",
    "        if each in freq_dict:\n",
    "            freq_dict[each] += 1\n",
    "        else:\n",
    "            freq_dict[each] = 1\n",
    "    print(freq_dict)\n",
    "\n",
    "freq_char(\"Find the frequency of each character in a string.\")"
   ]
  },
  {
   "cell_type": "code",
   "execution_count": null,
   "id": "38643aec-60f6-4092-ae5b-7b77d1138ac8",
   "metadata": {},
   "outputs": [
    {
     "name": "stdout",
     "output_type": "stream",
     "text": [
      "String without punctuation: Remove all punctuation from a string \n"
     ]
    }
   ],
   "source": [
    "# Question:-37 Remove all punctuation from a string.\n",
    "\n",
    "import string\n",
    "\n",
    "def remove_punctuation(input_string):\n",
    "    # Using string.punctuation to get all punctuation characters\n",
    "    punctuation_chars = string.punctuation\n",
    "    \n",
    "    # Creating a translation table to map each punctuation character to None\n",
    "    translation_table = str.maketrans(\"\", \"\", punctuation_chars)\n",
    "    \n",
    "    # Applying the translation to remove punctuation\n",
    "    result_string = input_string.translate(translation_table)\n",
    "\n",
    "    return result_string\n",
    "\n",
    "# Example usage:\n",
    "input_string = \"Remove! all punctuation from a string. @^&\"\n",
    "result = remove_punctuation(input_string)\n",
    "print(\"String without punctuation:\", result)\n"
   ]
  },
  {
   "cell_type": "code",
   "execution_count": 120,
   "id": "97457e7a-8464-4f4d-b753-621995f15d5a",
   "metadata": {},
   "outputs": [
    {
     "name": "stdout",
     "output_type": "stream",
     "text": [
      "this string $ Check if a string contains only digits 34 $ contains digit 3\n"
     ]
    }
   ],
   "source": [
    "# Question:- 38 Check if a string contains only digits.\n",
    "\n",
    "state = False\n",
    "def check_digit(word):\n",
    "    for each in word:\n",
    "        if each.isdigit():\n",
    "            state = False\n",
    "            break\n",
    "        else:\n",
    "            state = True\n",
    "            continue\n",
    "    \n",
    "    if state == False :\n",
    "        print(f\"this string $ {word} $ contains digit {each}\")\n",
    "    else:\n",
    "        print(f\"this string $ {word} $ does not contains digit\")\n",
    "\n",
    "word = \"Check if a string contains only digits 34\"\n",
    "check_digit(word)"
   ]
  },
  {
   "cell_type": "code",
   "execution_count": 124,
   "id": "cb3818dc-219e-4574-a073-749793534a73",
   "metadata": {},
   "outputs": [
    {
     "name": "stdout",
     "output_type": "stream",
     "text": [
      "this string $ Check if a string contains only alphabets r6 $ contains digit  \n"
     ]
    }
   ],
   "source": [
    "# Question:- 39 Check if a string contains only alphabets.\n",
    "\n",
    "def check_alpha(word):\n",
    "    for each in word:\n",
    "        if each.isalpha():\n",
    "            state = True\n",
    "            continue\n",
    "        else:\n",
    "            state = False\n",
    "            break\n",
    "            \n",
    "    if state == False :\n",
    "        print(f\"this string $ {word} $ contains digit {each}\")\n",
    "    else:\n",
    "        print(f\"this string $ {word} $ contains only alphabet\")\n",
    "            \n",
    "word = \"Check if a string contains only alphabets r6\"\n",
    "check_alpha(word)"
   ]
  },
  {
   "cell_type": "code",
   "execution_count": 18,
   "id": "8c3c38f0-5fb0-4862-a47f-3a9ae4babb4a",
   "metadata": {},
   "outputs": [
    {
     "name": "stdout",
     "output_type": "stream",
     "text": [
      "Convert a string to a list of characters.\n",
      "['Convert', 'a', 'string', 'to', 'a', 'list', 'of', 'characters.']\n"
     ]
    }
   ],
   "source": [
    "# Question:- 40 Convert a string to a list of characters.\n",
    "\n",
    "word = \"Convert a string to a list of characters.\"\n",
    "print(word)\n",
    "print(word.split())"
   ]
  },
  {
   "cell_type": "code",
   "execution_count": 161,
   "id": "d96bea92-7a7a-4fb6-b076-a297e23fa01a",
   "metadata": {},
   "outputs": [
    {
     "name": "stdout",
     "output_type": "stream",
     "text": [
      "listen and silent are anargrams\n",
      "rahul and lohar not are anargrams\n"
     ]
    }
   ],
   "source": [
    "# Question:- 41 Check two strings are anargrams\n",
    "\n",
    "def check_anargrams(word1 , word2):\n",
    "    word1 = word1.replace(\" \",\"\").lower()\n",
    "    word2 = word2.replace(\" \",\"\").lower()\n",
    "    if sorted(word1) == sorted(word2):\n",
    "        print(f\"{word1} and {word2} are anargrams\")\n",
    "    else:\n",
    "        print(f\"{word1} and {word2} not are anargrams\")\n",
    "        \n",
    "        \n",
    "word1 = \"listen\"\n",
    "word2 = \"Silent\"\n",
    "word3 = \"Rahul\"\n",
    "word4 = \"lohar\"\n",
    "\n",
    "check_anargrams(word1 , word2)\n",
    "check_anargrams(word3 , word4)"
   ]
  },
  {
   "cell_type": "code",
   "execution_count": 92,
   "id": "78b72bbf-f6a4-4265-b12f-7105ad8b24c1",
   "metadata": {},
   "outputs": [
    {
     "name": "stdout",
     "output_type": "stream",
     "text": [
      "Encoded caesar cipher for is ghfrgh d vwulqj xvlqj d fdhvdu flskhu\n"
     ]
    }
   ],
   "source": [
    "# Question:- 42 Encode a string using a Caesar cipher.\n",
    "\n",
    "import string\n",
    "\n",
    "letters_a_to_z = list(string.ascii_lowercase)\n",
    "\n",
    "def encode_cipher(code ,shift):\n",
    "    encoded = []\n",
    "    for each in code.lower():\n",
    "        if each in letters_a_to_z:\n",
    "            if ((letters_a_to_z.index(each)) + int(shift)) > 25 :\n",
    "                encoded.append(letters_a_to_z[(letters_a_to_z.index(each)) + int(shift) - 26])\n",
    "            else:\n",
    "                encoded.append(letters_a_to_z[(letters_a_to_z.index(each)) + int(shift)])\n",
    "        else:\n",
    "            encoded.append(each)\n",
    "        \n",
    "\n",
    "    return ''.join(encoded)\n",
    "\n",
    "encoded_string = encode_cipher(\"decode a string using a Caesar cipher\" , 3)\n",
    "print(f\"Encoded caesar cipher for is {encoded_string}\")"
   ]
  },
  {
   "cell_type": "code",
   "execution_count": 93,
   "id": "64d423d2-c219-4716-b4df-6f52c381edb5",
   "metadata": {},
   "outputs": [
    {
     "name": "stdout",
     "output_type": "stream",
     "text": [
      "decoded caesar cipher is decode a string using a caesar cipher\n"
     ]
    }
   ],
   "source": [
    "# Question:- 43 decode a string using a Caesar cipher\n",
    "\n",
    "def decode_cipher(code,shift):\n",
    "    decoded = []\n",
    "    for each in code.lower():\n",
    "        if each in letters_a_to_z:\n",
    "            decoded.append(letters_a_to_z[(letters_a_to_z.index(each)) - int(shift)])\n",
    "        else:\n",
    "            decoded.append(each)\n",
    "    \n",
    "    return ''.join(decoded)\n",
    "\n",
    "decoded_string = decode_cipher(encoded_string,3)\n",
    "print(f\"decoded caesar cipher is {decoded_string}\")"
   ]
  },
  {
   "cell_type": "code",
   "execution_count": 197,
   "id": "856934e9-33af-4bbf-ac4b-d17fd8f05d3b",
   "metadata": {},
   "outputs": [
    {
     "name": "stdout",
     "output_type": "stream",
     "text": [
      "The most frequent word is string is $ HELLO $ which occurs 2 times\n"
     ]
    }
   ],
   "source": [
    "# Question:- 44 Find the most frequent word in a string\n",
    "\n",
    "word_dict = {}\n",
    "\n",
    "def freq_word(word):\n",
    "    for each in word.lower().split():\n",
    "        if each in word_dict:\n",
    "            word_dict[each] += 1\n",
    "        else:\n",
    "            word_dict[each] = 1 \n",
    "            \n",
    "    return sorted(list(word_dict.values()))[-1]\n",
    "\n",
    "frq_values = freq_word(\"Hello world, hello there! How's the world?\")\n",
    "for key , values in word_dict.items():\n",
    "    if values == frq_values:\n",
    "        print(f\"The most frequent word is string is $ {key.upper()} $ which occurs {values} times\")"
   ]
  },
  {
   "cell_type": "code",
   "execution_count": 154,
   "id": "71cb588a-c2b0-46d1-9f8e-5d80cb8d2ca6",
   "metadata": {},
   "outputs": [
    {
     "data": {
      "text/plain": [
       "['world,', 'there!', \"how's\", 'the', 'world?']"
      ]
     },
     "execution_count": 154,
     "metadata": {},
     "output_type": "execute_result"
    }
   ],
   "source": [
    "# Question:- 45 Find all unique words in a string\n",
    "\n",
    "def uniq_word(word):\n",
    "    word_list = []\n",
    "    for each in word.lower().split():\n",
    "        if each in word_list:\n",
    "            word_list.remove(each)\n",
    "        else:\n",
    "            word_list.append(each)\n",
    "            \n",
    "    return word_list\n",
    "\n",
    "uniq_word(\"Hello world, hello there! How's the world?\")"
   ]
  },
  {
   "cell_type": "code",
   "execution_count": 165,
   "id": "046aa1fd-484e-4f19-846f-42103c9123fa",
   "metadata": {},
   "outputs": [
    {
     "name": "stdout",
     "output_type": "stream",
     "text": [
      "The word 'banana' has 3 syllables.\n"
     ]
    }
   ],
   "source": [
    "# Question:- 46 Count the number of syllables in a string.\n",
    "\n",
    "def count_syllables_vowels(word):\n",
    "    vowels = \"aeiouy\"\n",
    "    count = 0\n",
    "    prev_char_was_vowel = False\n",
    "\n",
    "    for char in word.lower():\n",
    "        if char in vowels:\n",
    "            if not prev_char_was_vowel:\n",
    "                count += 1\n",
    "            prev_char_was_vowel = True\n",
    "        else:\n",
    "            prev_char_was_vowel = False\n",
    "\n",
    "    return count\n",
    "\n",
    "# Example usage:\n",
    "word = \"banana\"\n",
    "syllable_count = count_syllables_vowels(word)\n",
    "print(f\"The word '{word}' has {syllable_count} syllables.\")"
   ]
  },
  {
   "cell_type": "code",
   "execution_count": 167,
   "id": "2ffab410-9470-4a80-b9ee-3385fac84735",
   "metadata": {},
   "outputs": [
    {
     "name": "stdout",
     "output_type": "stream",
     "text": [
      "The string contains special characters.\n"
     ]
    }
   ],
   "source": [
    "# Question:- 47 Check if a string contains any special characters\n",
    "\n",
    "def has_special_characters(input_string):\n",
    "    for char in input_string:\n",
    "        if not char.isalnum():\n",
    "            return True\n",
    "\n",
    "    return False\n",
    "\n",
    "test_string = \"Special@Characters\"\n",
    "result = has_special_characters(test_string)\n",
    "\n",
    "if result:\n",
    "    print(\"The string contains special characters.\")\n",
    "else:\n",
    "    print(\"The string does not contain special characters.\")"
   ]
  },
  {
   "cell_type": "code",
   "execution_count": 178,
   "id": "c6430734-56d0-48a7-9419-276fb620bd78",
   "metadata": {},
   "outputs": [
    {
     "name": "stdout",
     "output_type": "stream",
     "text": [
      "Original string  $ Remove the nth word from a string \n",
      "Removed word $  from\n"
     ]
    },
    {
     "data": {
      "text/plain": [
       "'Final string $ Remove the nth from a string'"
      ]
     },
     "execution_count": 178,
     "metadata": {},
     "output_type": "execute_result"
    }
   ],
   "source": [
    "# Question:- 48 Remove the nth word from a string\n",
    "\n",
    "def remove_word(word , position):\n",
    "    print(f\"Original string  $ {word} \")\n",
    "    word = word.split()\n",
    "    print(f\"Removed word $  {word[position]}\")\n",
    "    if 0 < position <= (len(word) - 1):\n",
    "        word.pop(position -1 )\n",
    "    else:\n",
    "        print(\"Invalid index number for the string\")\n",
    "        \n",
    "    return f\"Final string $ \" + ' '.join(word)\n",
    "\n",
    "word = \"Remove the nth word from a string\"\n",
    "remove_word(word , 4)  "
   ]
  },
  {
   "cell_type": "code",
   "execution_count": 196,
   "id": "8b99646a-d6de-46a3-bb44-1e880bb04763",
   "metadata": {},
   "outputs": [
    {
     "name": "stdout",
     "output_type": "stream",
     "text": [
      "Original string  $ Remove the nth word from a string \n",
      "Onserted word $  data\n"
     ]
    },
    {
     "data": {
      "text/plain": [
       "'Final string $ Remove the nth word data from a string'"
      ]
     },
     "execution_count": 196,
     "metadata": {},
     "output_type": "execute_result"
    }
   ],
   "source": [
    "# Question:- 49 Insert a word at the nth position in a string\n",
    "\n",
    "def insert_word(word , insert_word , position):\n",
    "    print(f\"Original string  $ {word} \")\n",
    "    word = word.split()\n",
    "    print(f\"Onserted word $  {insert_word }\")\n",
    "    if 0 < position <= (len(word) - 1):\n",
    "        word.insert(position , insert_word)\n",
    "    else:\n",
    "        print(\"Invalid index number for the string\")\n",
    "        \n",
    "    return f\"Final string $ \" + ' '.join(word)\n",
    "\n",
    "word = \"Remove the nth word from a string\"\n",
    "insert_word(word, \"data\" , 4)  "
   ]
  },
  {
   "cell_type": "code",
   "execution_count": null,
   "id": "9d4e16f5-0fa3-4ce8-bd56-e173f118249c",
   "metadata": {},
   "outputs": [],
   "source": [
    "# Question:- 50 Convert a CSV string to a list of lists\n",
    "\n",
    "def csv_string_to_list(csv_string):\n",
    "    # Split the CSV string into lines\n",
    "    lines = csv_string.split('\\n')\n",
    "\n",
    "    # Initialize an empty list to store the result\n",
    "    result = []\n",
    "\n",
    "    for line in lines:\n",
    "        # Split each line into fields using comma as the delimiter\n",
    "        fields = line.split(',')\n",
    "\n",
    "        # Append the fields to the result list as a row\n",
    "        result.append(fields)\n",
    "\n",
    "    return result\n",
    "\n",
    "# Example CSV string\n",
    "csv_data = \"Name, Age, Country\\nJohn, 25, USA\\nAlice, 30, Canada\\nBob, 22, UK\"\n",
    "\n",
    "# Convert CSV string to a list of lists\n",
    "list_of_lists = csv_string_to_list(csv_data)\n",
    "\n",
    "# Print the result\n",
    "for row in list_of_lists:\n",
    "    print(row)"
   ]
  },
  {
   "cell_type": "markdown",
   "id": "4b05a806-225f-4a90-87b2-ae83a00aabcd",
   "metadata": {},
   "source": [
    "# List Based Practice problems"
   ]
  },
  {
   "cell_type": "code",
   "execution_count": 1,
   "id": "8327746d-eeff-44e4-89f6-3415ed276dd8",
   "metadata": {},
   "outputs": [
    {
     "name": "stdout",
     "output_type": "stream",
     "text": [
      "[1, 2, 3, 4, 5, 6, 7, 8, 9, 10]\n"
     ]
    }
   ],
   "source": [
    "# Question:-1 Create a list with integers from 1 to 10.\n",
    "\n",
    "list1 = [x for x in range(1,11)]\n",
    "print(list1)"
   ]
  },
  {
   "cell_type": "code",
   "execution_count": 2,
   "id": "8f8741f4-b81e-42ff-916d-91e1429f17b3",
   "metadata": {},
   "outputs": [
    {
     "data": {
      "text/plain": [
       "'The length of list is 10'"
      ]
     },
     "execution_count": 2,
     "metadata": {},
     "output_type": "execute_result"
    }
   ],
   "source": [
    "# Question:2 Find the length of a list without using the `len()` function.\n",
    "\n",
    "def list_length(list1):\n",
    "    count = 0\n",
    "    for i in list1:\n",
    "        count += 1\n",
    "        \n",
    "    return f\"The length of list is {count}\"\n",
    "\n",
    "list_length(list1)"
   ]
  },
  {
   "cell_type": "code",
   "execution_count": 3,
   "id": "a32ac492-14ac-4bbf-a29e-8e7664aaf6bc",
   "metadata": {},
   "outputs": [
    {
     "name": "stdout",
     "output_type": "stream",
     "text": [
      "[1, 2, 3, 4, 5, 6, 7, 8, 9, 10, 11]\n"
     ]
    }
   ],
   "source": [
    "# Question:-3 Append an element to the end of a list.\n",
    "\n",
    "list1.append(11)\n",
    "print(list1)"
   ]
  },
  {
   "cell_type": "code",
   "execution_count": 4,
   "id": "5d87900f-ab87-4efb-8157-155fbc2d7249",
   "metadata": {},
   "outputs": [
    {
     "data": {
      "text/plain": [
       "[1, 2, 3, 4, 'apple', 5, 6, 7, 8, 9, 10, 11]"
      ]
     },
     "execution_count": 4,
     "metadata": {},
     "output_type": "execute_result"
    }
   ],
   "source": [
    "# Question:-4 Insert an element at a specific index in a list.\n",
    "\n",
    "def list_insert(position , value):\n",
    "    list1.insert(position , value)\n",
    "    return list1\n",
    "\n",
    "list_insert(4,\"apple\")"
   ]
  },
  {
   "cell_type": "code",
   "execution_count": 5,
   "id": "33b62409-096b-4e16-a1b7-bc494638994e",
   "metadata": {},
   "outputs": [
    {
     "data": {
      "text/plain": [
       "[1, 2, 3, 4, 'apple', 5, 6, 7, 8, 9, 10]"
      ]
     },
     "execution_count": 5,
     "metadata": {},
     "output_type": "execute_result"
    }
   ],
   "source": [
    "# Question:-5 Remove an element from a list by its value.\n",
    "\n",
    "list1.remove(11) # 11 is the element in the list\n",
    "list1"
   ]
  },
  {
   "cell_type": "code",
   "execution_count": 6,
   "id": "dc9f0967-9ffe-4312-ad16-569de06c15fe",
   "metadata": {},
   "outputs": [
    {
     "data": {
      "text/plain": [
       "[1, 2, 3, 4, 5, 6, 7, 8, 9, 10]"
      ]
     },
     "execution_count": 6,
     "metadata": {},
     "output_type": "execute_result"
    }
   ],
   "source": [
    "# Question:-6 Remove an element from a list by its index.\n",
    "\n",
    "list1.pop(4) # 4 is the index position of element(apple) in the list\n",
    "list1"
   ]
  },
  {
   "cell_type": "code",
   "execution_count": 57,
   "id": "9d4fa52f-903e-49db-87a5-f970db7081b7",
   "metadata": {},
   "outputs": [
    {
     "name": "stdout",
     "output_type": "stream",
     "text": [
      "True\n"
     ]
    }
   ],
   "source": [
    "# Question:-7 Check if an element exists in a list.\n",
    "\n",
    "print( 1 in list1)"
   ]
  },
  {
   "cell_type": "code",
   "execution_count": 58,
   "id": "7298cc67-32b1-41b9-97f2-a7684f53b906",
   "metadata": {},
   "outputs": [
    {
     "name": "stdout",
     "output_type": "stream",
     "text": [
      "Index of element in list is 9\n"
     ]
    }
   ],
   "source": [
    "# Question:-8 Find the index of the first occurrence of an element in a list.\n",
    "\n",
    "print(f\"Index of element in list is {list1.index(10)}\")"
   ]
  },
  {
   "cell_type": "code",
   "execution_count": 7,
   "id": "b594a60e-f8e4-4ef0-ab2d-24d64571da2b",
   "metadata": {},
   "outputs": [
    {
     "data": {
      "text/plain": [
       "{1: 2, 2: 2, 3: 2, 4: 1, 5: 2, 6: 1, 9: 1}"
      ]
     },
     "execution_count": 7,
     "metadata": {},
     "output_type": "execute_result"
    }
   ],
   "source": [
    "# Question:-9 Count the occurrences of an element in a list.\n",
    "\n",
    "list1 = [1,2,3,1,6,5,3,2,9,4,5 ]\n",
    "\n",
    "def count_occurence(list1):\n",
    "    count = {}\n",
    "    for each in sorted(list1):\n",
    "        if each in count:\n",
    "            count[each] += 1\n",
    "        else:\n",
    "            count[each] = 1\n",
    "            \n",
    "    return count\n",
    "\n",
    "count_occurence(list1)"
   ]
  },
  {
   "cell_type": "code",
   "execution_count": 8,
   "id": "98f446ac-25cc-4a0b-8ac9-8cbbb67d19b9",
   "metadata": {},
   "outputs": [
    {
     "name": "stdout",
     "output_type": "stream",
     "text": [
      "original list [1, 2, 3, 4, 5]\n",
      "reversed list [5, 4, 3, 2, 1]\n",
      "original list [1, 2, 3, 1, 6, 5, 3, 2, 9, 4, 5]\n",
      "reversed list using list slicing [5, 4, 9, 2, 3, 5, 6, 1, 3, 2, 1]\n"
     ]
    }
   ],
   "source": [
    "# Question:-10 Reverse the order of elements in a list.\n",
    "\n",
    "# Reverse the order of list using for loop\n",
    "def reverse_order(list1):\n",
    "    list2 = []\n",
    "    for each in list1:\n",
    "        list2.insert(list1.index(each),list1[len(list1) - each])\n",
    "     \n",
    "    print(f\"original list {list1}\")\n",
    "    print(f\"reversed list {list2}\")\n",
    "\n",
    "reverse_order([1,2,3,4,5])\n",
    "\n",
    "# reverse the order of list using list slicing\n",
    "print(f\"original list {list1}\")\n",
    "print(f\"reversed list using list slicing {list1[::-1]}\")"
   ]
  },
  {
   "cell_type": "code",
   "execution_count": 14,
   "id": "31415b7f-8701-433f-a0dc-08652f9a68a5",
   "metadata": {},
   "outputs": [
    {
     "name": "stdout",
     "output_type": "stream",
     "text": [
      "[11, 22, 22, 23, 34, 34, 43, 60, 67, 76, 88]\n"
     ]
    }
   ],
   "source": [
    "# Question:- 11 Sort a list in ascending order.\n",
    "\n",
    "list3 = [22,43,11,23,76,34,67,88,22,34,60]\n",
    "list3.sort()\n",
    "\n",
    "print(list3)"
   ]
  },
  {
   "cell_type": "code",
   "execution_count": 15,
   "id": "d7f2e13a-7de1-4cf5-bce8-a43b9c7059aa",
   "metadata": {},
   "outputs": [
    {
     "name": "stdout",
     "output_type": "stream",
     "text": [
      "[88, 76, 67, 60, 43, 34, 34, 23, 22, 22, 11]\n"
     ]
    }
   ],
   "source": [
    "# Question:- 12 Sort a list in descending order.\n",
    "\n",
    "list3 = [22,43,11,23,76,34,67,88,22,34,60]\n",
    "list3.sort(reverse = True)\n",
    "\n",
    "print(list3)"
   ]
  },
  {
   "cell_type": "code",
   "execution_count": 17,
   "id": "0cf02140-b88e-4d74-a0a4-31a364d89607",
   "metadata": {},
   "outputs": [
    {
     "name": "stdout",
     "output_type": "stream",
     "text": [
      "[0, 2, 4, 6, 8, 10, 12, 14, 16, 18, 20]\n"
     ]
    }
   ],
   "source": [
    "# Question:- 13 Create a list of even numbers from 1 to 20.\n",
    "\n",
    "list3 = [x for x in range(0,21) if x%2 == 0]\n",
    "print(list3)"
   ]
  },
  {
   "cell_type": "code",
   "execution_count": 30,
   "id": "0762b838-3b59-47df-b0e2-c02559a14769",
   "metadata": {},
   "outputs": [
    {
     "name": "stdout",
     "output_type": "stream",
     "text": [
      "[1, 3, 5, 7, 9, 11, 13, 15, 17, 19]\n"
     ]
    }
   ],
   "source": [
    "# Question:- 14 Create a list of odd numbers from 1 to 20.\n",
    "\n",
    "list3 = [x for x in range(0,21) if x%2 != 0]\n",
    "print(list3)"
   ]
  },
  {
   "cell_type": "code",
   "execution_count": 35,
   "id": "2d279aed-6e03-4148-ad28-0d8633186933",
   "metadata": {},
   "outputs": [
    {
     "name": "stdout",
     "output_type": "stream",
     "text": [
      "[1, 3, 5, 7, 9, 11, 13, 15, 17, 19]\n",
      "sum of all the elements 100\n"
     ]
    }
   ],
   "source": [
    "# Question:- 15 Find the sum of all elements in a list.\n",
    "\n",
    "print(list3)\n",
    "print(f\"sum of all the elements {sum(list3)}\")"
   ]
  },
  {
   "cell_type": "code",
   "execution_count": 34,
   "id": "b8f997ca-463f-4322-a6d6-68e835c9121d",
   "metadata": {},
   "outputs": [
    {
     "name": "stdout",
     "output_type": "stream",
     "text": [
      "[1, 3, 5, 7, 9, 11, 13, 15, 17, 19]\n",
      "Maximun value in ths list 19\n"
     ]
    }
   ],
   "source": [
    "# Question:- 16 Find the maximum value in a list.\n",
    "\n",
    "print(list3)\n",
    "print(f\"Maximun value in ths list {max(list3)}\")"
   ]
  },
  {
   "cell_type": "code",
   "execution_count": 36,
   "id": "38df157c-ac5e-4734-be97-740387efbd4b",
   "metadata": {},
   "outputs": [
    {
     "name": "stdout",
     "output_type": "stream",
     "text": [
      "[1, 3, 5, 7, 9, 11, 13, 15, 17, 19]\n",
      "Maximun value in ths list 1\n"
     ]
    }
   ],
   "source": [
    "# Question:- 17 Find the minimum value in a list.\n",
    "\n",
    "print(list3)\n",
    "print(f\"Minimun value in ths list {min(list3)}\")"
   ]
  },
  {
   "cell_type": "code",
   "execution_count": 37,
   "id": "78caaa96-9351-4436-b896-f105607f1229",
   "metadata": {},
   "outputs": [
    {
     "name": "stdout",
     "output_type": "stream",
     "text": [
      "[1, 4, 9, 16, 25, 36, 49, 64, 81, 100]\n"
     ]
    }
   ],
   "source": [
    "# Question:- 18 Create a list of squares of numbers from 1 to 10..\n",
    "\n",
    "list4 = [ x*x for x in range(1,11)]\n",
    "print(list4)"
   ]
  },
  {
   "cell_type": "code",
   "execution_count": 47,
   "id": "9a6cfdba-0127-484e-bdb2-71edb7002f83",
   "metadata": {},
   "outputs": [
    {
     "name": "stdout",
     "output_type": "stream",
     "text": [
      "[1, 2, 3, 0, 3, 5, 7, 2, 8, 9]\n"
     ]
    }
   ],
   "source": [
    "# Question:- 19 Create a list of random numbers.\n",
    "import random\n",
    "\n",
    "list5 = [random.randint(0,x) for x in range(1,11)]\n",
    "print(list5)"
   ]
  },
  {
   "cell_type": "code",
   "execution_count": 12,
   "id": "7b777a8d-c1b7-45fa-ad4e-648dfef07404",
   "metadata": {},
   "outputs": [
    {
     "name": "stdout",
     "output_type": "stream",
     "text": [
      "datatype conversion method [40, 10, 50, 20, 30]\n"
     ]
    },
    {
     "data": {
      "text/plain": [
       "'using for loop [40, 10, 50, 20, 30]'"
      ]
     },
     "execution_count": 12,
     "metadata": {},
     "output_type": "execute_result"
    }
   ],
   "source": [
    "# Question:- 20 Remove duplicates from a list.\n",
    "my_list = [10, 20, 30, 20, 40, 10, 50, 30]\n",
    "print(f\"datatype conversion method {list(set(my_list))}\")\n",
    "\n",
    "def remove_duplicates(my_list):\n",
    "    new_list = []\n",
    "    for each in set(my_list):\n",
    "        new_list.append(each)\n",
    "        \n",
    "    return f\"using for loop {new_list}\"\n",
    "    \n",
    "    \n",
    "remove_duplicates(my_list)"
   ]
  },
  {
   "cell_type": "code",
   "execution_count": 89,
   "id": "f5627f28-d405-4ebb-a956-6809a66d0360",
   "metadata": {},
   "outputs": [
    {
     "data": {
      "text/plain": [
       "' common elements in both the list is [40, 10, 50, 20, 30]'"
      ]
     },
     "execution_count": 89,
     "metadata": {},
     "output_type": "execute_result"
    }
   ],
   "source": [
    "# Question:- 21 Find the common elements between two lists.\n",
    "my_list = [10, 20, 30, 20, 40, 10, 50, 30]\n",
    "my_list1 = [40, 10, 50, 20, 30 ,34]\n",
    "\n",
    "def common_elements(list1 , list2):\n",
    "    common_list = []\n",
    "    list_length = min(len(list1),len(list2))\n",
    "    for i in range(list_length):\n",
    "        if list2[i] in list1:\n",
    "            common_list.append(list2[i])\n",
    "            \n",
    "    return f\" common elements in both the list is {common_list}\"\n",
    "        \n",
    "    \n",
    "common_elements(my_list , my_list1)"
   ]
  },
  {
   "cell_type": "code",
   "execution_count": 90,
   "id": "b5176633-4b59-46eb-8f44-97449f7ab3b6",
   "metadata": {},
   "outputs": [
    {
     "data": {
      "text/plain": [
       "' common elements in both the list is [40, 10, 50, 20, 30]'"
      ]
     },
     "execution_count": 90,
     "metadata": {},
     "output_type": "execute_result"
    }
   ],
   "source": [
    "# Question:- 22 Find the difference between two lists.\n",
    "my_list = [10, 20, 30, 20, 40, 10, 50, 30]\n",
    "my_list1 = [40, 10, 50, 20, 30 ,34]\n",
    "\n",
    "def diff_elements(list1 , list2):\n",
    "    diff_list = []\n",
    "    list_length = min(len(list1),len(list2))\n",
    "    for i in range(list_length):\n",
    "        if list2[i] not in list1:\n",
    "            diff_list.append(list2[i])\n",
    "            \n",
    "    return f\" diffrent elements in both the list is {diff_list}\"\n",
    "    \n",
    "common_elements(my_list , my_list1)"
   ]
  },
  {
   "cell_type": "code",
   "execution_count": 207,
   "id": "14c79a0e-a280-4765-9c22-2185e2e75f4f",
   "metadata": {},
   "outputs": [
    {
     "name": "stdout",
     "output_type": "stream",
     "text": [
      "[10, 20, 30, 20, 40, 10, 50, 30, 40, 10, 50, 20, 30, 34]\n"
     ]
    }
   ],
   "source": [
    "# Question:- 23 Merge two lists.\n",
    "my_list = [10, 20, 30, 20, 40, 10, 50, 30]\n",
    "my_list1 = [40, 10, 50, 20, 30 ,34]\n",
    "\n",
    "merge_list = my_list  my_list1\n",
    "print(merge_list)"
   ]
  },
  {
   "cell_type": "code",
   "execution_count": 95,
   "id": "975a53c7-d311-4867-aa42-fd671565906a",
   "metadata": {},
   "outputs": [
    {
     "name": "stdout",
     "output_type": "stream",
     "text": [
      "Original list [10, 20, 30, 20, 40, 10, 50, 30, 40, 10, 50, 20, 30, 34] \n",
      "list mutipliy by 2 [20, 40, 60, 40, 80, 20, 100, 60, 80, 20, 100, 40, 60, 68]\n"
     ]
    }
   ],
   "source": [
    "# Question:- 24 Multiply all elements in a list by 2.\n",
    "\n",
    "print(f\"Original list {merge_list} \")\n",
    "print(f\"list mutipliy by 2 {[x * 2 for x in merge_list]}\")"
   ]
  },
  {
   "cell_type": "code",
   "execution_count": 98,
   "id": "5f0624a8-9019-434b-8118-1fcccaecbff1",
   "metadata": {},
   "outputs": [
    {
     "name": "stdout",
     "output_type": "stream",
     "text": [
      "Original list [0, 1, 0, 2, 3, 4, 5, 7, 1, 6, 3, 3, 11, 3, 11, 8, 5, 1, 4, 18]\n",
      "all even number in list [0, 0, 2, 4, 6, 8, 4, 18]\n"
     ]
    }
   ],
   "source": [
    "# Question:- 25 Filter out all even numbers from a list.\n",
    "\n",
    "import random\n",
    "\n",
    "# created a list with random number\n",
    "list7 = [random.randint(0 , x) for x in range(20)]\n",
    "# printed orignal list\n",
    "print(f\"Original list {list7}\")\n",
    "# Filter out all even numbers from a list using list comprehension method\n",
    "print(f\"all even number in list {[x for x in list7 if x%2 == 0]}\")"
   ]
  },
  {
   "cell_type": "code",
   "execution_count": 99,
   "id": "d8053c76-8001-464d-b51d-6067b0009309",
   "metadata": {},
   "outputs": [
    {
     "name": "stdout",
     "output_type": "stream",
     "text": [
      "integer list [10, 20, 30, 40, 50]\n"
     ]
    }
   ],
   "source": [
    "# Question:- 26 Convert a list of strings to a list of integers.\n",
    "\n",
    "string_list = [\"10\", \"20\", \"30\", \"40\", \"50\"]\n",
    "print(f\"integer list {[ int(x) for x in string_list]}\")"
   ]
  },
  {
   "cell_type": "code",
   "execution_count": 100,
   "id": "86d6ff06-f50a-4acc-a7af-26e0401edfee",
   "metadata": {},
   "outputs": [
    {
     "name": "stdout",
     "output_type": "stream",
     "text": [
      "integer list ['10', '20', '30', '40', '50']\n"
     ]
    }
   ],
   "source": [
    "# Question:- 27 Convert a list of integers to a list of strings..\n",
    "integer_list = [10, 20, 30, 40, 50]\n",
    "print(f\"integer list {[str(x) for x in integer_list]}\")"
   ]
  },
  {
   "cell_type": "code",
   "execution_count": 103,
   "id": "3cb87194-2a15-4fa4-8a9e-d89b0df2fce0",
   "metadata": {},
   "outputs": [
    {
     "name": "stdout",
     "output_type": "stream",
     "text": [
      "[1, 2, 3, 4, 5, 6, 7, 8, 9]\n"
     ]
    }
   ],
   "source": [
    "# Question:- 28 Flatten the nested list\n",
    "\n",
    "nested_list = [[1, 2, 3], [4, 5], [6, 7, 8, 9]]\n",
    "final_list= []\n",
    "\n",
    "for i in nested_list:\n",
    "    for j in i:\n",
    "        final_list.append(j)\n",
    "        \n",
    "print(final_list)\n",
    "    "
   ]
  },
  {
   "cell_type": "code",
   "execution_count": 119,
   "id": "862d2026-ec6f-44de-a861-27a03938ff55",
   "metadata": {},
   "outputs": [
    {
     "data": {
      "text/plain": [
       "'First 10 Fibonacci numbers is [0, 1, 1, 2, 3, 5, 8, 13, 21, 34, 55, 89]'"
      ]
     },
     "execution_count": 119,
     "metadata": {},
     "output_type": "execute_result"
    }
   ],
   "source": [
    "# Question:- 29 Create a list of the first 10 Fibonacci numbers.\n",
    "\n",
    "def fibonnaci_number(n):\n",
    "    fib_list = [0,1]\n",
    "\n",
    "    for i in range(n):\n",
    "        fib_list.append(fib_list[-1] + fib_list[-2])\n",
    "    \n",
    "    return f\"First 10 Fibonacci numbers is {fib_list}\"\n",
    "    \n",
    "fibonnaci_number(10)"
   ]
  },
  {
   "cell_type": "code",
   "execution_count": 127,
   "id": "3166f4c7-b636-4d75-a5a5-82f396dd3deb",
   "metadata": {},
   "outputs": [
    {
     "name": "stdout",
     "output_type": "stream",
     "text": [
      "[0, 1, 2, 1, 4, 2, 5, 7, 4, 5, 9]\n",
      "list not sorted\n"
     ]
    }
   ],
   "source": [
    "# Question:- 30 Check if a list is sorted.\n",
    "\n",
    "list8 = [random.randint(0,x) for x in range(11)]\n",
    "print(list8)\n",
    "if list8 == sorted(list8):\n",
    "    print(\"list is sorted\")\n",
    "else:\n",
    "    print(\"list not sorted\")"
   ]
  },
  {
   "cell_type": "code",
   "execution_count": 221,
   "id": "979a0066-1964-4ef6-82c3-beb217045c41",
   "metadata": {},
   "outputs": [
    {
     "name": "stdout",
     "output_type": "stream",
     "text": [
      "Original list [0, 1, 2, 1, 4, 2, 5, 7, 4, 5, 9]\n"
     ]
    },
    {
     "data": {
      "text/plain": [
       "'Rotated list to the left by position 3 is [1, 4, 2, 5, 7, 4, 5, 9, 0, 1, 2]'"
      ]
     },
     "execution_count": 221,
     "metadata": {},
     "output_type": "execute_result"
    }
   ],
   "source": [
    "# Question:- 31. Rotate a list to the left by `n` positions.\n",
    "\n",
    "def rotated_left(main,position):\n",
    "    rotated_list = []\n",
    "    rotated_list = main[position:] + main[:position]\n",
    "    \n",
    "    return f\"Rotated list to the left by position {position} is {rotated_list}\"\n",
    "\n",
    "list9 = [0, 1, 2, 1, 4, 2, 5, 7, 4, 5, 9]\n",
    "print(f\"Original list {list9}\")\n",
    "rotated_left(list9,3)"
   ]
  },
  {
   "cell_type": "code",
   "execution_count": 163,
   "id": "f376211f-a009-46c9-84fe-77a085c4dd7a",
   "metadata": {},
   "outputs": [
    {
     "name": "stdout",
     "output_type": "stream",
     "text": [
      "Original list [0, 1, 2, 1, 4, 2, 5, 7, 4, 5, 9]\n"
     ]
    },
    {
     "data": {
      "text/plain": [
       "'Rotated list to the right by position 2 is [5, 9, 0, 1, 2, 1, 4, 2, 5, 7, 4]'"
      ]
     },
     "execution_count": 163,
     "metadata": {},
     "output_type": "execute_result"
    }
   ],
   "source": [
    "# Question:- 32. Rotate a list to the right by `n` positions.\n",
    "\n",
    "def rotated_right(main,position):\n",
    "    rotated_list = []\n",
    "    rotated_list = main[-(position):] + main[:len(main) - position]\n",
    "    \n",
    "    return f\"Rotated list to the right by position {position} is {rotated_list}\"\n",
    "\n",
    "list9 = [0, 1, 2, 1, 4, 2, 5, 7, 4, 5, 9]\n",
    "print(f\"Original list {list9}\")\n",
    "rotated_right(list9,2)"
   ]
  },
  {
   "cell_type": "code",
   "execution_count": 177,
   "id": "4c1a0c23-cbe9-45d8-8064-fcc3b91185ab",
   "metadata": {},
   "outputs": [
    {
     "name": "stdout",
     "output_type": "stream",
     "text": [
      "Prime numbers up to 50: [2, 3, 5, 7, 11, 13, 17, 19, 23, 29, 31, 37, 41, 43, 47]\n"
     ]
    }
   ],
   "source": [
    "# Question:- 33 Create a list of prime numbers up to 50.\n",
    "\n",
    "def generate_primes_up_to_n(n):\n",
    "    primes = []\n",
    "    for num in range(2, n + 1):\n",
    "        is_prime = all(num % i != 0 for i in range(2, int(num**0.5) + 1))\n",
    "        if is_prime:\n",
    "            primes.append(num)\n",
    "    return primes\n",
    "\n",
    "# Example usage:\n",
    "limit = 50\n",
    "prime_numbers = generate_primes_up_to_n(limit)\n",
    "\n",
    "print(f\"Prime numbers up to {limit}: {prime_numbers}\")\n",
    "            "
   ]
  },
  {
   "cell_type": "code",
   "execution_count": 239,
   "id": "95095e0b-0826-4dbe-bab9-17d21c4c356a",
   "metadata": {},
   "outputs": [
    {
     "name": "stdout",
     "output_type": "stream",
     "text": [
      " Original lsit [0, 1, 2, 1, 4, 2, 5, 7, 4, 5, 9]\n"
     ]
    },
    {
     "data": {
      "text/plain": [
       "\"split list by 3 is  ['[0, 1, 2]', '[1, 4, 2]', '[5, 7, 4]', '[5, 9]']\""
      ]
     },
     "execution_count": 239,
     "metadata": {},
     "output_type": "execute_result"
    }
   ],
   "source": [
    "# Question:- 34 Split a list into chunks of size `n`.\n",
    "\n",
    "import math\n",
    "\n",
    "list9 = [0, 1, 2, 1, 4, 2, 5, 7, 4, 5, 9]\n",
    "\n",
    "def split_list(list_main , n):\n",
    "    split_list1 = []\n",
    "    new = \"\"\n",
    "    print(f\" Original lsit {list_main}\")\n",
    "    for i in range(math.ceil(len(list_main) / n) ):\n",
    "        new = ''.join(str(list_main[:n]))\n",
    "        split_list1.append(new)\n",
    "        del list_main[:n]\n",
    "        \n",
    "    return f\"split list by {n} is  {split_list1}\"\n",
    "    \n",
    "    \n",
    "split_list(list9, 3)"
   ]
  },
  {
   "cell_type": "code",
   "execution_count": 246,
   "id": "8fda94a5-bb58-4273-9f57-bda10607ae72",
   "metadata": {},
   "outputs": [
    {
     "name": "stdout",
     "output_type": "stream",
     "text": [
      " Second largest number in the list 5\n"
     ]
    }
   ],
   "source": [
    "# Question:- 35 Find the second largest number in a list.\n",
    "\n",
    "list9 = [0, 1, 2, 1, 4, 2, 5, 4, 5, 9]\n",
    "print(f\" Second largest number in the list {sorted(set(list9))[-2]}\")"
   ]
  },
  {
   "cell_type": "code",
   "execution_count": 251,
   "id": "fa424bea-c288-444b-8ae2-0bd7aa5c1051",
   "metadata": {},
   "outputs": [
    {
     "name": "stdout",
     "output_type": "stream",
     "text": [
      "[0, 1, 4, 1, 16, 4, 25, 16, 25, 81]\n"
     ]
    }
   ],
   "source": [
    "# Question:- 36 Replace every element in a list with its square.\n",
    "\n",
    "list9 = [0, 1, 2, 1, 4, 2, 5, 4, 5, 9]\n",
    "list10 = []\n",
    "print([(x**2) for x in list9])"
   ]
  },
  {
   "cell_type": "code",
   "execution_count": 264,
   "id": "34e90041-a2a2-412a-81b6-e74dbeed0cf7",
   "metadata": {},
   "outputs": [
    {
     "name": "stdout",
     "output_type": "stream",
     "text": [
      "Original list [0, 43, 176, 204, 143, 490, 311, 173, 130, 743]\n",
      "list into a dictionary {0: 0, 43: 1, 176: 2, 204: 3, 143: 4, 490: 5, 311: 6, 173: 7, 130: 8, 743: 9}\n"
     ]
    }
   ],
   "source": [
    "# Question:- 37 Convert a list to a dictionary where list elements become keys and their indices become values.\n",
    "\n",
    "list9 = [random.randint(0,x*100) for x in range(0,10)]\n",
    "dict_list = {}\n",
    "print(f\"Original list {list9}\")\n",
    "for i in range(len(list9)):\n",
    "    dict_list[list9[i]] = i\n",
    "    \n",
    "print(f\"list into a dictionary {dict_list}\")"
   ]
  },
  {
   "cell_type": "code",
   "execution_count": 280,
   "id": "13f89c32-a947-4c61-bafd-b59d147abf4e",
   "metadata": {},
   "outputs": [
    {
     "name": "stdout",
     "output_type": "stream",
     "text": [
      "[176, 143, 204, 0, 173, 43, 130, 490, 311, 743]\n"
     ]
    }
   ],
   "source": [
    "# Question:- 38 Shuffle the elements of a list randomly.\n",
    "\n",
    "list9 = [0, 43, 176, 204, 143, 490, 311, 173, 130, 743]\n",
    "random.shuffle(list9)\n",
    "print(list9)"
   ]
  },
  {
   "cell_type": "code",
   "execution_count": 2,
   "id": "fbcc3253-a4bd-45d4-ac7d-012c9f2dfb59",
   "metadata": {},
   "outputs": [
    {
     "name": "stdout",
     "output_type": "stream",
     "text": [
      "[1, 1, 2, 6, 24, 120, 720, 5040, 40320, 362880]\n"
     ]
    }
   ],
   "source": [
    "# Question:- 39 Create a list of the first 10 factorial numbers.\n",
    "\n",
    "def factorial(n):\n",
    "    if n == 1 or n == 0:\n",
    "        return 1\n",
    "    else:\n",
    "        return n * factorial(n-1)\n",
    "    \n",
    "print([factorial(x) for x in range(10)])"
   ]
  },
  {
   "cell_type": "code",
   "execution_count": 23,
   "id": "9a816251-3465-476f-a6d2-60e64ec4e5dc",
   "metadata": {},
   "outputs": [
    {
     "name": "stdout",
     "output_type": "stream",
     "text": [
      "[9, 8, 10, 4, 2, 12, 11, 6, 7, 7, 15]\n",
      "[0, 1, 0, 2, 2, 5, 5, 1, 2, 9]\n",
      "Both list have atleast one commom element\n"
     ]
    }
   ],
   "source": [
    "# Question:- 40 Check if two lists have at least one element in common.\n",
    "\n",
    "import random \n",
    "\n",
    "# Created a list with random integer\n",
    "list10 = [random.randint(0,x) for x in range(9,20)]\n",
    "list11 = [random.randint(0,x) for x in range(0,10)]\n",
    "\n",
    "# compared list10 elements with list11\n",
    "def common_element(list10,list11):\n",
    "    print(list10)\n",
    "    print(list11)\n",
    "    for i in list10:\n",
    "        if i in list11:\n",
    "            return True\n",
    "        else:\n",
    "            return False\n",
    "        \n",
    "if common_element(list10,list11) == True:\n",
    "    print(\"Both list have atleast one commom element\")\n",
    "else:\n",
    "    print(\"Both list does not have atleast one commom element\")"
   ]
  },
  {
   "cell_type": "code",
   "execution_count": 28,
   "id": "739ee487-0727-4028-b82d-6cd2f53727e1",
   "metadata": {},
   "outputs": [
    {
     "data": {
      "text/plain": [
       "[]"
      ]
     },
     "execution_count": 28,
     "metadata": {},
     "output_type": "execute_result"
    }
   ],
   "source": [
    "# Question:-41 Remove all elements from a list.\n",
    "\n",
    "list10 = [9, 8, 10, 4, 2, 12, 11, 6, 7, 7, 15]\n",
    "list10.clear()\n",
    "list10"
   ]
  },
  {
   "cell_type": "code",
   "execution_count": 34,
   "id": "d00d0719-b662-4cbf-835b-a14e632bb6ba",
   "metadata": {},
   "outputs": [
    {
     "name": "stdout",
     "output_type": "stream",
     "text": [
      "[9, 0, 0, 4, 2, 12, 0, 6, 0, 7, 15]\n"
     ]
    }
   ],
   "source": [
    "# Question:-42 Replace negative numbers in a list with 0.\n",
    "\n",
    "list10 = [9,- 8, -10, 4, 2, 12, -11, 6, -7, 7, 15]\n",
    "\n",
    "for i in range(len(list10)):\n",
    "    if list10[i] < 0:\n",
    "        list10[i] = 0\n",
    "              \n",
    "print(list10)"
   ]
  },
  {
   "cell_type": "code",
   "execution_count": 35,
   "id": "e951f0d0-7f0f-45f5-8404-e1145005d784",
   "metadata": {},
   "outputs": [
    {
     "name": "stdout",
     "output_type": "stream",
     "text": [
      "['Convert', 'a', 'string', 'into', 'a', 'list', 'of', 'words.']\n"
     ]
    }
   ],
   "source": [
    "# Question:- 43 Convert a string into a list of words.\n",
    "\n",
    "data = \"Convert a string into a list of words.\"\n",
    "print(data.split())"
   ]
  },
  {
   "cell_type": "code",
   "execution_count": 37,
   "id": "e302ff51-378a-4816-a7e9-9e5c2eb41299",
   "metadata": {},
   "outputs": [
    {
     "name": "stdout",
     "output_type": "stream",
     "text": [
      "Convert a string into a list of words.\n"
     ]
    }
   ],
   "source": [
    "# Question:- 44 Convert a list of words into a string.\n",
    "\n",
    "list11 = data.split()\n",
    "print(' '.join(list11))"
   ]
  },
  {
   "cell_type": "code",
   "execution_count": 40,
   "id": "1acf7d4b-bee3-4196-ae29-33f3bc1bb843",
   "metadata": {},
   "outputs": [
    {
     "name": "stdout",
     "output_type": "stream",
     "text": [
      "[0, 1, 4, 9, 16, 25, 36, 49, 64, 81, 100]\n"
     ]
    }
   ],
   "source": [
    "# Question:- 45 Create a list of the first `n` powers of 2.\n",
    "\n",
    "list_square = [x**2 for x in range(0,11)]\n",
    "print(list_square)"
   ]
  },
  {
   "cell_type": "code",
   "execution_count": 49,
   "id": "3f8cfddb-78ca-467e-87ac-cf7b5707aa08",
   "metadata": {},
   "outputs": [
    {
     "name": "stdout",
     "output_type": "stream",
     "text": [
      "Longest word in the string is  $ programming\n"
     ]
    }
   ],
   "source": [
    "# Question:- 46 Find the longest word in a list of strings.\n",
    "\n",
    "def longest_word_in_string(word):\n",
    "    len_count = 0\n",
    "    longest_word = \"\"\n",
    "    for each in word:\n",
    "        if len(each) > len_count:\n",
    "            len_count = len(each)\n",
    "            longest_word = each\n",
    "    return longest_word\n",
    "\n",
    "word_list = [\"python\", \"programming\", \"language\", \"list\", \"string\", \"example\"]\n",
    "longest_word = longest_word_in_string(word_list)\n",
    "print(f\"Longest word in the string is  $ {longest_word}\")  "
   ]
  },
  {
   "cell_type": "code",
   "execution_count": 51,
   "id": "b0948e2a-8907-4cb3-85a7-5b46bd853869",
   "metadata": {},
   "outputs": [
    {
     "name": "stdout",
     "output_type": "stream",
     "text": [
      "shortest word in the string is list\n"
     ]
    }
   ],
   "source": [
    "# Question:- 47 Find the shorteet word in a list of strings.\n",
    "\n",
    "def shortest_word_in_string(word):\n",
    "    shortest_word = min(word, key=len)\n",
    "    return shortest_word\n",
    "\n",
    "word_list = [\"python\", \"programming\", \"language\", \"list\", \"string\", \"example\"]\n",
    "shortest_word = shortest_word_in_string(word_list)\n",
    "print(f\"shortest word in the string is {shortest_word}\")  "
   ]
  },
  {
   "cell_type": "code",
   "execution_count": 1,
   "id": "bd6cc3ca-3b58-4cf2-9ac4-77048c8382a7",
   "metadata": {},
   "outputs": [
    {
     "name": "stdout",
     "output_type": "stream",
     "text": [
      "[1, 3, 6, 10, 15, 21, 28, 36, 45, 55]\n"
     ]
    }
   ],
   "source": [
    "# Question:- 48 Create a list of the first `n` triangular numbers.\n",
    "\n",
    "def generate_triangular_numbers(n):\n",
    "    triangular_numbers = []\n",
    "    for i in range(1, n + 1):\n",
    "        triangular_number = (i * (i + 1)) // 2\n",
    "        triangular_numbers.append(triangular_number)\n",
    "    return triangular_numbers\n",
    "\n",
    "# Example: Generate the first 10 triangular numbers\n",
    "n = 10\n",
    "triangular_numbers_list = generate_triangular_numbers(n)\n",
    "print(triangular_numbers_list)"
   ]
  },
  {
   "cell_type": "code",
   "execution_count": 2,
   "id": "96b4b864-2118-46f1-8f05-6a34e5f298e0",
   "metadata": {},
   "outputs": [
    {
     "name": "stdout",
     "output_type": "stream",
     "text": [
      "The sublist is a subsequence of the main list.\n"
     ]
    }
   ],
   "source": [
    "# Question:- 49 Check if a list contains another list as a subsequence.\n",
    "\n",
    "def is_subsequence(sublist, sequence):\n",
    "    i, j = 0, 0\n",
    "\n",
    "    while i < len(sublist) and j < len(sequence):\n",
    "        if sublist[i] == sequence[j]:\n",
    "            i += 1\n",
    "        j += 1\n",
    "\n",
    "    return i == len(sublist)\n",
    "\n",
    "# Example usage:\n",
    "main_list = [1, 2, 3, 4, 5, 6, 7, 8, 9]\n",
    "sub_list = [3, 5, 7]\n",
    "\n",
    "result = is_subsequence(sub_list, main_list)\n",
    "\n",
    "if result:\n",
    "    print(\"The sublist is a subsequence of the main list.\")\n",
    "else:\n",
    "    print(\"The sublist is not a subsequence of the main list.\")"
   ]
  },
  {
   "cell_type": "code",
   "execution_count": 4,
   "id": "ff750362-ee65-4509-9b7e-a1c9d259da5c",
   "metadata": {},
   "outputs": [
    {
     "name": "stdout",
     "output_type": "stream",
     "text": [
      "Original List: [4, 2, 3, 1, 5]\n",
      "List after swapping elements at indices 0 and 3 : [4, 2, 3, 1, 5]\n"
     ]
    }
   ],
   "source": [
    "# Question:- 50 Swap two elements in a list by their indices.\n",
    "    \n",
    "def swap_elements_by_indices(my_list, index1, index2):\n",
    "    # Check if the indices are valid\n",
    "    if 0 <= index1 < len(my_list) and 0 <= index2 < len(my_list):\n",
    "        # Swap elements using a temporary variable\n",
    "        temp = my_list[index1]\n",
    "        my_list[index1] = my_list[index2]\n",
    "        my_list[index2] = temp\n",
    "        return my_list\n",
    "    else:\n",
    "        print(\"Invalid indices. Please provide valid indices.\")\n",
    "\n",
    "# Example usage:\n",
    "my_list = [1, 2, 3, 4, 5]\n",
    "index_to_swap1 = 0\n",
    "index_to_swap2 = 3\n",
    "\n",
    "result_list = swap_elements_by_indices(my_list, index_to_swap1, index_to_swap2)\n",
    "print(\"Original List:\", my_list)\n",
    "print(\"List after swapping elements at indices\", index_to_swap1, \"and\", index_to_swap2, \":\", result_list)"
   ]
  },
  {
   "cell_type": "markdown",
   "id": "280b1712-30ea-4e50-8bed-7ebbaf58683b",
   "metadata": {},
   "source": [
    "# Tuple Based Practice Problems"
   ]
  },
  {
   "cell_type": "code",
   "execution_count": 1,
   "id": "b24fa647-f27b-40d0-b700-3480c5b41856",
   "metadata": {},
   "outputs": [
    {
     "name": "stdout",
     "output_type": "stream",
     "text": [
      "(1, 2, 3, 4, 5)\n"
     ]
    }
   ],
   "source": [
    "# Question:-1 Create a tuple with integers from 1 to 5.\n",
    "\n",
    "Tuple1 = (1,2,3,4,5)\n",
    "print(Tuple1)"
   ]
  },
  {
   "cell_type": "code",
   "execution_count": 3,
   "id": "0c2bc632-8b69-4181-b36f-da4715a3e2d9",
   "metadata": {},
   "outputs": [
    {
     "name": "stdout",
     "output_type": "stream",
     "text": [
      "3\n"
     ]
    }
   ],
   "source": [
    "# Question:-2 Access the third element of a tuple.\n",
    "\n",
    "third_element = Tuple1[2]\n",
    "print(third_element)"
   ]
  },
  {
   "cell_type": "code",
   "execution_count": 15,
   "id": "a56c7063-dac8-45bd-af57-13f4fea8f994",
   "metadata": {},
   "outputs": [
    {
     "data": {
      "text/plain": [
       "'Tuple Length is 5'"
      ]
     },
     "execution_count": 15,
     "metadata": {},
     "output_type": "execute_result"
    }
   ],
   "source": [
    "# Question:-3 Find the length of a tuple without using the `len()` function.\n",
    "\n",
    "def Tuple_length(Tuple1):\n",
    "    count = 0\n",
    "    for i in Tuple1:\n",
    "        count += 1\n",
    "\n",
    "    return f\"Tuple Length is {count}\"\n",
    "        \n",
    "Tuple_length(Tuple1)"
   ]
  },
  {
   "cell_type": "code",
   "execution_count": 1,
   "id": "c0cae39a-c499-404e-acd6-15eab4a91463",
   "metadata": {},
   "outputs": [
    {
     "data": {
      "text/plain": [
       "'0 occur 4 times in (0, 0, 1, 1, 0, 0, 4, 2, 4, 3, 7) '"
      ]
     },
     "execution_count": 1,
     "metadata": {},
     "output_type": "execute_result"
    }
   ],
   "source": [
    "# Question:-4 Count the occurrences of an element in a tuple.\n",
    "\n",
    "import random\n",
    "Tuple2 = tuple(random.randint(0,x) for x in range(0,11))\n",
    "\n",
    "def element_occurence(y , Tuple2):\n",
    "    occurence_count = 0\n",
    "    for i in Tuple2:\n",
    "        if i == y :\n",
    "            occurence_count += 1\n",
    "    return f\"{y} occur {occurence_count} times in {Tuple2} \"\n",
    "        \n",
    "element_occurence(0 , Tuple2)"
   ]
  },
  {
   "cell_type": "code",
   "execution_count": 14,
   "id": "c8ea78bd-9908-4dc4-9d67-4deec35c2315",
   "metadata": {},
   "outputs": [
    {
     "name": "stdout",
     "output_type": "stream",
     "text": [
      "(0, 0, 2, 3, 0, 4, 2, 3, 3, 3, 4)\n"
     ]
    },
    {
     "data": {
      "text/plain": [
       "'Index of element 4 of the first occurrence is 5'"
      ]
     },
     "execution_count": 14,
     "metadata": {},
     "output_type": "execute_result"
    }
   ],
   "source": [
    "# Question:-5 Find the index of the first occurrence of an element in a tuple.\n",
    "\n",
    "import random\n",
    "Tuple2 = tuple(random.randint(0,x) for x in range(0,11))\n",
    "\n",
    "def element_occurence(y , Tuple2):\n",
    "    print(Tuple2)\n",
    "    for i in range(len(Tuple2)):\n",
    "        if Tuple2[i] == y :\n",
    "            return f\"Index of element {y} of the first occurrence is {i}\"\n",
    "        \n",
    "element_occurence(4 , Tuple2)"
   ]
  },
  {
   "cell_type": "code",
   "execution_count": 18,
   "id": "9256ad01-46b3-49c8-9e42-6fcca0e77733",
   "metadata": {},
   "outputs": [
    {
     "data": {
      "text/plain": [
       "'3 element exists in a tuple'"
      ]
     },
     "execution_count": 18,
     "metadata": {},
     "output_type": "execute_result"
    }
   ],
   "source": [
    "# Question:-6 Check if an element exists in a tuple.\n",
    "\n",
    "import random\n",
    "Tuple2 = tuple(random.randint(0,x) for x in range(0,11))\n",
    "\n",
    "def check_element(x , Tuple2):\n",
    "    if x in Tuple2:\n",
    "        return f\"{x} element exists in a tuple\"\n",
    "    else:\n",
    "        return f\"{x} element exists in a tuple\"\n",
    "    \n",
    "check_element( 3,Tuple2)"
   ]
  },
  {
   "cell_type": "code",
   "execution_count": 19,
   "id": "1367a0e9-9151-452f-b622-f38c9b7b644b",
   "metadata": {},
   "outputs": [
    {
     "name": "stdout",
     "output_type": "stream",
     "text": [
      "Tuple to a list is [0, 0, 0, 0, 4, 4, 3, 2, 8, 8, 5]\n"
     ]
    }
   ],
   "source": [
    "# Question:-7 Convert a tuple to a list.\n",
    "\n",
    "list2 = list(Tuple2)\n",
    "print(f\"Tuple to a list is {list2}\")"
   ]
  },
  {
   "cell_type": "code",
   "execution_count": 20,
   "id": "1e57f4f4-eb7d-4f52-b4ca-bbe0f42bc511",
   "metadata": {},
   "outputs": [
    {
     "name": "stdout",
     "output_type": "stream",
     "text": [
      "list to a tuple. (0, 0, 0, 0, 4, 4, 3, 2, 8, 8, 5)\n"
     ]
    }
   ],
   "source": [
    "# Question:-8 Convert a list to a tuple.\n",
    "\n",
    "print(f\"list to a tuple. {tuple(list2)}\")"
   ]
  },
  {
   "cell_type": "code",
   "execution_count": 21,
   "id": "82b7e7f4-226b-44c3-aca9-609c92f40f50",
   "metadata": {},
   "outputs": [
    {
     "name": "stdout",
     "output_type": "stream",
     "text": [
      "apple\n",
      "['mango', 'papaya', 'pineapple']\n",
      "cherry\n"
     ]
    }
   ],
   "source": [
    "# Question:-9 Unpack the elements of a tuple into variables.\n",
    "\n",
    "fruits = (\"apple\", \"mango\", \"papaya\", \"pineapple\", \"cherry\")\n",
    "\n",
    "(green, *tropic, red) = fruits\n",
    "\n",
    "print(green)\n",
    "print(tropic)\n",
    "print(red)"
   ]
  },
  {
   "cell_type": "code",
   "execution_count": 22,
   "id": "955e123d-ff24-49c8-b73c-9eb3b8dd2ab2",
   "metadata": {},
   "outputs": [
    {
     "name": "stdout",
     "output_type": "stream",
     "text": [
      "Even numbers in Tuple (0, 2, 4, 6, 8, 10)\n"
     ]
    }
   ],
   "source": [
    "# Question:-10 Create a tuple of even numbers from 1 to 10.\n",
    "\n",
    "print(f\"Even numbers in Tuple {tuple(x for x in range(0,11) if x%2 == 0)}\") "
   ]
  },
  {
   "cell_type": "code",
   "execution_count": 23,
   "id": "5e46c1d5-a51c-4d43-a895-b0512bcea4da",
   "metadata": {},
   "outputs": [
    {
     "name": "stdout",
     "output_type": "stream",
     "text": [
      "Even numbers in Tuple (1, 3, 5, 7, 9)\n"
     ]
    }
   ],
   "source": [
    "# Question:-11 Create a tuple of odd numbers from 1 to 10.\n",
    "\n",
    "print(f\"Even numbers in Tuple {tuple(x for x in range(0,11) if x%2 != 0)}\") "
   ]
  },
  {
   "cell_type": "code",
   "execution_count": 4,
   "id": "7ca66ea8-b1ca-4d56-8d68-3a967ae5098b",
   "metadata": {},
   "outputs": [
    {
     "name": "stdout",
     "output_type": "stream",
     "text": [
      "(1, 2, 3, 4, 5, 6, 7, 8)\n"
     ]
    }
   ],
   "source": [
    "# Question:-12 Concatenate two tuples.\n",
    "\n",
    "Tuple1 = (1,2,3,4)\n",
    "Tuple2 = (5,6,7,8)\n",
    "print(Tuple1 + Tuple2)"
   ]
  },
  {
   "cell_type": "code",
   "execution_count": 3,
   "id": "b40ad2bd-8fc7-41d0-a7c7-3eec36cefc36",
   "metadata": {},
   "outputs": [
    {
     "name": "stdout",
     "output_type": "stream",
     "text": [
      "(1, 2, 3, 4, 1, 2, 3, 4, 1, 2, 3, 4)\n"
     ]
    }
   ],
   "source": [
    "# Question:-13 Repeat a tuple three times.\n",
    "\n",
    "print(3 * Tuple1)"
   ]
  },
  {
   "cell_type": "code",
   "execution_count": 6,
   "id": "c3ad0926-0520-46bc-9b2e-f70471bcef5e",
   "metadata": {},
   "outputs": [
    {
     "name": "stdout",
     "output_type": "stream",
     "text": [
      "Tuple is empty\n",
      "Tuple is not empty\n"
     ]
    }
   ],
   "source": [
    "# Question:-14 Check if a tuple is empty.\n",
    "\n",
    "Tuple3 = ()\n",
    "Tuple4 = (1, 2, 3, 4, 1, 2, 3, 4, 1, 2, 3, 4)\n",
    "\n",
    "if len(Tuple3) == 0:\n",
    "    print(\"Tuple is empty\")\n",
    "else:\n",
    "    print(\"Tuple is not empty\")\n",
    "    \n",
    "if len(Tuple4) == 0:\n",
    "    print(\"Tuple is empty\")\n",
    "else:\n",
    "    print(\"Tuple is not empty\")"
   ]
  },
  {
   "cell_type": "code",
   "execution_count": 7,
   "id": "207397d7-9e5c-4baf-b8fd-a47d11bf5ffb",
   "metadata": {},
   "outputs": [
    {
     "name": "stdout",
     "output_type": "stream",
     "text": [
      "((1, 3, 5, 7), ('create', 'a', 'nested', 'Tuple'), (0, 1))\n"
     ]
    }
   ],
   "source": [
    "# Question:-15 Create a nested tuple.\n",
    "\n",
    "nested_tuple = ((1,3,5,7),(\"create\",\"a\",\"nested\",\"Tuple\"),(0,1))\n",
    "print(nested_tuple)"
   ]
  },
  {
   "cell_type": "code",
   "execution_count": 8,
   "id": "00827a56-7386-4e20-b110-49d0fcb92a76",
   "metadata": {},
   "outputs": [
    {
     "name": "stdout",
     "output_type": "stream",
     "text": [
      "(1, 3, 5, 7)\n"
     ]
    }
   ],
   "source": [
    "# Question:-16 Access the first element of a nested tuple.\n",
    "\n",
    "print(nested_tuple[0])"
   ]
  },
  {
   "cell_type": "code",
   "execution_count": 9,
   "id": "4d36c77d-a556-4a2a-93a7-88e772c58b57",
   "metadata": {},
   "outputs": [
    {
     "name": "stdout",
     "output_type": "stream",
     "text": [
      "(22,)\n"
     ]
    }
   ],
   "source": [
    "# Question:-17 Create a tuple with a single element.\n",
    "\n",
    "single_tuple = (22,)\n",
    "print(single_tuple)"
   ]
  },
  {
   "cell_type": "code",
   "execution_count": 12,
   "id": "98d318ee-0d3f-42b6-91ca-c5264b4d0ea2",
   "metadata": {},
   "outputs": [
    {
     "name": "stdout",
     "output_type": "stream",
     "text": [
      "(0, 0, 2, 1, 2, 3, 4, 0, 3, 8, 7)\n",
      "(0, 0, 2, 0, 4, 5, 3, 0, 0, 4, 3)\n",
      "tuple1 == tuple2: False\n",
      "tuple1 != tuple2: True\n",
      "tuple1 < tuple2: False\n",
      "tuple1 <= tuple2: False\n",
      "tuple1 > tuple2: True\n",
      "tuple1 >= tuple2: True\n"
     ]
    }
   ],
   "source": [
    "# Question:-18 Compare two tuples.\n",
    "import random\n",
    "\n",
    "tuple1 = tuple(random.randint(0,x) for x in range(0,11))\n",
    "tuple2 = tuple(random.randint(0,x) for x in range(0,11))\n",
    "\n",
    "print(tuple1)\n",
    "print(tuple2)\n",
    "\n",
    "print(\"tuple1 == tuple2:\", tuple1 == tuple2)  # Equality check\n",
    "print(\"tuple1 != tuple2:\", tuple1 != tuple2)  # Inequality check\n",
    "print(\"tuple1 < tuple2:\", tuple1 < tuple2)    # Less than check\n",
    "print(\"tuple1 <= tuple2:\", tuple1 <= tuple2)  # Less than or equal to check\n",
    "print(\"tuple1 > tuple2:\", tuple1 > tuple2)    # Greater than check\n",
    "print(\"tuple1 >= tuple2:\", tuple1 >= tuple2)  # Greater than or equal to check"
   ]
  },
  {
   "cell_type": "code",
   "execution_count": 14,
   "id": "b9562ba5-8317-4238-be09-2d87e9fac1dc",
   "metadata": {},
   "outputs": [
    {
     "ename": "NameError",
     "evalue": "name 'tuple2' is not defined",
     "output_type": "error",
     "traceback": [
      "\u001b[0;31m---------------------------------------------------------------------------\u001b[0m",
      "\u001b[0;31mNameError\u001b[0m                                 Traceback (most recent call last)",
      "Cell \u001b[0;32mIn[14], line 3\u001b[0m\n\u001b[1;32m      1\u001b[0m \u001b[38;5;66;03m# Question:-19 Delete a tuple.\u001b[39;00m\n\u001b[0;32m----> 3\u001b[0m \u001b[38;5;28mprint\u001b[39m(\u001b[43mtuple2\u001b[49m)\n\u001b[1;32m      4\u001b[0m \u001b[38;5;28;01mdel\u001b[39;00m tuple2\n\u001b[1;32m      6\u001b[0m \u001b[38;5;28mprint\u001b[39m(tuple2)\n",
      "\u001b[0;31mNameError\u001b[0m: name 'tuple2' is not defined"
     ]
    }
   ],
   "source": [
    "# Question:-19 Delete a tuple.\n",
    "del tuple2\n",
    "\n",
    "print(tuple2)"
   ]
  },
  {
   "cell_type": "code",
   "execution_count": 16,
   "id": "fd0ed2b1-a376-4925-920e-b9e7c6b3c02b",
   "metadata": {},
   "outputs": [
    {
     "name": "stdout",
     "output_type": "stream",
     "text": [
      "(0, 1, 2, 0, 1, 3, 4, 0, 7, 0, 8, 9, 8, 3, 0, 3, 0, 14, 5, 0, 2)\n",
      "(2, 0, 1, 3, 4, 0, 7, 0, 8, 9, 8, 3, 0, 3)\n"
     ]
    }
   ],
   "source": [
    "# Question:-20 Slice a tuple.\n",
    "\n",
    "import random\n",
    "\n",
    "tuple1 = tuple(random.randint(0,x) for x in range(0,21))\n",
    "print(tuple1)\n",
    "print(tuple1[2:16])"
   ]
  },
  {
   "cell_type": "code",
   "execution_count": 3,
   "id": "162437f7-cc2e-48c8-8684-ec38a23bec36",
   "metadata": {},
   "outputs": [
    {
     "name": "stdout",
     "output_type": "stream",
     "text": [
      "(0, 1, 2, 2, 3, 4, 2, 7, 4, 4, 5, 9, 10, 6, 4, 4, 14, 10, 6, 18, 12)\n",
      "Maximun value in tuple is 18\n"
     ]
    }
   ],
   "source": [
    "# Question:-21 Find the maximum value in a tuple.\n",
    "\n",
    "import random\n",
    "\n",
    "tuple1 = tuple(random.randint(0,x) for x in range(0,21))\n",
    "print(tuple1)\n",
    "print(f\"Maximun value in tuple is {max(tuple1)}\")"
   ]
  },
  {
   "cell_type": "code",
   "execution_count": 4,
   "id": "c2b5e5cf-ca00-4e3d-aab1-bbc8227670a0",
   "metadata": {},
   "outputs": [
    {
     "name": "stdout",
     "output_type": "stream",
     "text": [
      "(0, 1, 1, 2, 3, 3, 6, 5, 6, 2, 4, 1, 6, 13, 11, 9, 10, 1, 13, 6, 1)\n",
      "Minimum value in tuple is 0\n"
     ]
    }
   ],
   "source": [
    "# Question:-22 Find the minimum value in a tuple.\n",
    "\n",
    "import random\n",
    "\n",
    "tuple1 = tuple(random.randint(0,x) for x in range(0,21))\n",
    "print(tuple1)\n",
    "print(f\"Minimum value in tuple is {min(tuple1)}\")"
   ]
  },
  {
   "cell_type": "code",
   "execution_count": 6,
   "id": "54a4f63c-2ccf-40e2-8a34-13d88c7f2e7e",
   "metadata": {},
   "outputs": [
    {
     "name": "stdout",
     "output_type": "stream",
     "text": [
      "('C', 'o', 'n', 'v', 'e', 'r', 't', ' ', 'a', ' ', 's', 't', 'r', 'i', 'n', 'g', ' ', 't', 'o', ' ', 'a', ' ', 't', 'u', 'p', 'l', 'e', ' ', 'o', 'f', ' ', 'c', 'h', 'a', 'r', 'a', 'c', 't', 'e', 'r', 's', '.')\n"
     ]
    }
   ],
   "source": [
    "# Question:-23 Convert a string to a tuple of characters.\n",
    "\n",
    "words = \"Convert a string to a tuple of characters.\"\n",
    "string_to_tuple = tuple(words)\n",
    "print(tuple(words))"
   ]
  },
  {
   "cell_type": "code",
   "execution_count": 7,
   "id": "e3c73d39-0893-428c-8a66-5115970c33cf",
   "metadata": {},
   "outputs": [
    {
     "name": "stdout",
     "output_type": "stream",
     "text": [
      "Convert a string to a tuple of characters.\n"
     ]
    }
   ],
   "source": [
    "# Question:-24 Convert a tuple of characters to a string.\n",
    "\n",
    "print(''.join(string_to_tuple))"
   ]
  },
  {
   "cell_type": "code",
   "execution_count": 1,
   "id": "08f78611-900e-434b-87d0-fd1f5ded5713",
   "metadata": {},
   "outputs": [
    {
     "name": "stdout",
     "output_type": "stream",
     "text": [
      "(23, 57.8, 'DATA', True, 0, 1)\n"
     ]
    }
   ],
   "source": [
    "# Question:-25 Create a tuple from multiple data types.\n",
    "\n",
    "tuple5 = (23,57.8,\"DATA\" , True , 0 , 1)\n",
    "print(tuple5)"
   ]
  },
  {
   "cell_type": "code",
   "execution_count": 3,
   "id": "e3cd0d4e-8f21-4032-a7fd-b40915f00e28",
   "metadata": {},
   "outputs": [
    {
     "name": "stdout",
     "output_type": "stream",
     "text": [
      "Chech if tuple is identical False\n",
      "Chech if tuple is identical True\n"
     ]
    }
   ],
   "source": [
    "# Question:-26 Check if two tuples are identical.\n",
    "\n",
    "tuple1 = (1,2,3)\n",
    "tuple2 = (1,3,4)\n",
    "tuple3 = (1,2,3)\n",
    "\n",
    "check_identical = tuple1 ==  tuple2\n",
    "check_identical1 = tuple1 == tuple3\n",
    "\n",
    "print(f\"Chech if tuple is identical {check_identical}\")\n",
    "print(f\"Chech if tuple is identical {check_identical1}\")"
   ]
  },
  {
   "cell_type": "code",
   "execution_count": 9,
   "id": "048f64bd-6c20-4373-8da6-1f31b8fb5400",
   "metadata": {},
   "outputs": [
    {
     "name": "stdout",
     "output_type": "stream",
     "text": [
      "Tuple is not sorted\n"
     ]
    }
   ],
   "source": [
    "# Question:-27 Sort the elements of a tuple.\n",
    "\n",
    "import random\n",
    "\n",
    "tuple1 = tuple(random.randint(0,x) for x in range(0,11))\n",
    "\n",
    "if tuple1 == sorted(tuple1):\n",
    "    print(f\"Tuple is sorted\")\n",
    "else:\n",
    "    print(f\"Tuple is not sorted\")"
   ]
  },
  {
   "cell_type": "code",
   "execution_count": 11,
   "id": "6b58e550-2df7-49b0-9a91-3658ae389ecd",
   "metadata": {},
   "outputs": [
    {
     "name": "stdout",
     "output_type": "stream",
     "text": [
      "(0, 0, 0, 1, 3, 3, 1, 3, 4, 7, 4)\n",
      "('0', '0', '0', '1', '3', '3', '1', '3', '4', '7', '4')\n"
     ]
    }
   ],
   "source": [
    "# Question:-28 Convert a tuple of integers to a tuple of strings.\n",
    "\n",
    "import random\n",
    "\n",
    "tuple1 = tuple(random.randint(0,x) for x in range(0,11))\n",
    "print(tuple1)\n",
    "\n",
    "# tuple1 is integer table\n",
    "\n",
    "print(tuple(str(x) for x in tuple1))"
   ]
  },
  {
   "cell_type": "code",
   "execution_count": 13,
   "id": "127c4246-cedd-4bc1-a9aa-18b240a0de51",
   "metadata": {},
   "outputs": [
    {
     "name": "stdout",
     "output_type": "stream",
     "text": [
      "('0', '0', '0', '1', '3', '3', '1', '3', '4', '7', '4')\n",
      "(0, 0, 0, 1, 3, 3, 1, 3, 4, 7, 4)\n"
     ]
    }
   ],
   "source": [
    "# Question:-29 Convert a tuple of strings to a tuple of integers.\n",
    "\n",
    "tuple2 = tuple(str(x) for x in tuple1)\n",
    "print(tuple2)\n",
    "print(tuple(int(x) for x in tuple1))"
   ]
  },
  {
   "cell_type": "code",
   "execution_count": 14,
   "id": "ddaf9e4e-f28c-4d29-9a14-6a833a66005f",
   "metadata": {},
   "outputs": [
    {
     "name": "stdout",
     "output_type": "stream",
     "text": [
      "(0, 0, 0, 1, 3, 3, 1, 3, 4, 7, 4, '0', '0', '0', '1', '3', '3', '1', '3', '4', '7', '4')\n"
     ]
    }
   ],
   "source": [
    "# Question:-30 Merge two tuples.\n",
    "\n",
    "print(tuple1 + tuple2)"
   ]
  },
  {
   "cell_type": "code",
   "execution_count": 1,
   "id": "b9da6a81-b17d-4d45-911d-b76948c17eb3",
   "metadata": {},
   "outputs": [
    {
     "name": "stdout",
     "output_type": "stream",
     "text": [
      "Nested Tuple: (1, (2, 3), ((4, 5), 6))\n",
      "Flattened Tuple: (1, 2, 3, 4, 5, 6)\n"
     ]
    }
   ],
   "source": [
    "# Question:-31 Flatten a nested tuple.\n",
    "\n",
    "def flatten_tuple(nested_tuple):\n",
    "    flattened_list = []\n",
    "\n",
    "    for item in nested_tuple:\n",
    "        if isinstance(item, tuple):\n",
    "            flattened_list.extend(flatten_tuple(item))\n",
    "        else:\n",
    "            flattened_list.append(item)\n",
    "\n",
    "    return tuple(flattened_list)\n",
    "\n",
    "# Example\n",
    "nested_tuple = (1, (2, 3), ((4, 5), 6))\n",
    "flattened_tuple = flatten_tuple(nested_tuple)\n",
    "\n",
    "print(\"Nested Tuple:\", nested_tuple)\n",
    "print(\"Flattened Tuple:\", flattened_tuple)"
   ]
  },
  {
   "cell_type": "code",
   "execution_count": 1,
   "id": "3e5cd54f-e70f-43a7-b642-f4b9724aab88",
   "metadata": {},
   "outputs": [
    {
     "name": "stdout",
     "output_type": "stream",
     "text": [
      "Tuple of the first 5 prime numbers: (2, 3, 5, 7, 11)\n"
     ]
    }
   ],
   "source": [
    "# Question:- 32 Create a tuple of the first 5 prime numbers.\n",
    "\n",
    "# Function to check if a number is prime\n",
    "def is_prime(num):\n",
    "    if num <= 1:\n",
    "        return False\n",
    "    for i in range(2, int(num ** 0.5) + 1):\n",
    "        if num % i == 0:\n",
    "            return False\n",
    "    return True\n",
    "\n",
    "# Generate the first 5 prime numbers\n",
    "prime_numbers_list = [num for num in range(2, 100) if is_prime(num)][:5]\n",
    "\n",
    "# Convert the list to a tuple\n",
    "prime_numbers_tuple = tuple(prime_numbers_list)\n",
    "\n",
    "# Print the tuple of prime numbers\n",
    "print(\"Tuple of the first 5 prime numbers:\", prime_numbers_tuple)"
   ]
  },
  {
   "cell_type": "code",
   "execution_count": 8,
   "id": "8e354fcf-b81e-425a-9588-dfa7000e47d1",
   "metadata": {},
   "outputs": [
    {
     "name": "stdout",
     "output_type": "stream",
     "text": [
      "(1, 2, 3, 4, 5, 4, 3, 2, 1) is Palindrome\n",
      "('a', 1, 6, 'd') is not  Palindrome\n"
     ]
    }
   ],
   "source": [
    "# Question:- 33 Check if a tuple is a palindrome.\n",
    "\n",
    "def is_palindrome(tuple1):\n",
    "    if list(tuple1) == list(tuple1)[::-1]:\n",
    "        print(f\"{tuple1} is Palindrome\")\n",
    "    else:\n",
    "        print(f\"{tuple1} is not  Palindrome\")\n",
    "        \n",
    "tuple1 = (1,2,3,4,5,4,3,2,1)\n",
    "tuple2 = (\"a\",1,6,\"d\")\n",
    "is_palindrome(tuple1)\n",
    "is_palindrome(tuple2)"
   ]
  },
  {
   "cell_type": "code",
   "execution_count": 15,
   "id": "d549271c-b6e4-4acf-9795-2ff993b435ff",
   "metadata": {},
   "outputs": [
    {
     "name": "stdout",
     "output_type": "stream",
     "text": [
      "(1, 4, 9, 16, 25)\n"
     ]
    }
   ],
   "source": [
    "# Question:- 34 Create a tuple of squares of numbers from 1 to 5.\n",
    "\n",
    "print(tuple([x * x for x in range(1,6)]))"
   ]
  },
  {
   "cell_type": "code",
   "execution_count": 20,
   "id": "eb6159e1-6b11-47ab-b49c-7d5920750340",
   "metadata": {},
   "outputs": [
    {
     "name": "stdout",
     "output_type": "stream",
     "text": [
      "(0, 1, 2, 3, 4, 5, 6, 7, 8, 9, 10, 11, 12, 13, 14, 15, 16, 17, 18, 19, 20)\n",
      "Even numbers from tuple (0, 2, 4, 6, 8, 10, 12, 14, 16, 18, 20)\n"
     ]
    }
   ],
   "source": [
    "# Question:- 35 Filter out all even numbers from a tuple.\n",
    "\n",
    "Main_tuple = tuple([x for x in range(0,21)])\n",
    "print(Main_tuple)\n",
    "even_tuple = tuple([x for x in Main_tuple if x % 2 == 0])\n",
    "print(f\"Even numbers from tuple {even_tuple}\")"
   ]
  },
  {
   "cell_type": "code",
   "execution_count": 22,
   "id": "b332813e-e4b1-4246-8e2c-5f5c2afeb0a2",
   "metadata": {},
   "outputs": [
    {
     "name": "stdout",
     "output_type": "stream",
     "text": [
      "Main Tuple (0, 1, 2, 3, 4, 5, 6, 7, 8, 9, 10)\n",
      "Multiply by 2 (0, 2, 4, 6, 8, 10, 12, 14, 16, 18, 20)\n"
     ]
    }
   ],
   "source": [
    "# Question:- 36 Multiply all elements in a tuple by 2.\n",
    "\n",
    "Main_tuple = tuple([x for x in range(0,11)])\n",
    "tuple2 = tuple([x*2 for x in Main_tuple])\n",
    "print(f\"Main Tuple {Main_tuple}\")\n",
    "print(f\"Multiply by 2 {tuple2}\")"
   ]
  },
  {
   "cell_type": "code",
   "execution_count": 28,
   "id": "655e25fc-643c-4372-9fc2-cf3f1a84a2d8",
   "metadata": {},
   "outputs": [
    {
     "name": "stdout",
     "output_type": "stream",
     "text": [
      "(0.0, 0.14, 1.75, 0.61, 1.78, 2.65, 4.53, 0.7, 7.61, 7.44)\n"
     ]
    }
   ],
   "source": [
    "# Question:- 37 Create a tuple of random numbers.\n",
    "\n",
    "import random \n",
    "random_tuple = tuple([round(random.uniform(0.0,x),2) for x in range(0,10)])\n",
    "print(random_tuple)"
   ]
  },
  {
   "cell_type": "code",
   "execution_count": 33,
   "id": "2bc31996-8100-4000-ad3d-a66fd1b1c44d",
   "metadata": {},
   "outputs": [
    {
     "name": "stdout",
     "output_type": "stream",
     "text": [
      "(0, 1, 2, 3, 4, 5, 6, 7, 8, 9, 10) is sorted\n",
      "(0, 0, 2, 0, 3, 2, 6, 7, 3, 7, 1) is not sorted\n"
     ]
    }
   ],
   "source": [
    "# Question:- 38 Check if a tuple is sorted.\n",
    "\n",
    "import random\n",
    "\n",
    "def check_sorted(tuple1):\n",
    "    if list(tuple1) == sorted(list(tuple1)):\n",
    "        print(f\"{tuple1} is sorted\")\n",
    "    else:\n",
    "        print(f\"{tuple1} is not sorted\")\n",
    "    \n",
    "tuple1 = tuple([x for x in range(0,11)])\n",
    "tuple2 = tuple([random.randint(0,x) for x in range(0,11)])\n",
    "\n",
    "check_sorted(tuple1)\n",
    "check_sorted(tuple2)"
   ]
  },
  {
   "cell_type": "code",
   "execution_count": 34,
   "id": "41e744a1-d9df-4af1-9d2b-cd36c5f86b93",
   "metadata": {},
   "outputs": [
    {
     "name": "stdout",
     "output_type": "stream",
     "text": [
      "Original Tuple: (1, 2, 3, 4, 5)\n",
      "Rotated 2 Positions Left: (3, 4, 5, 1, 2)\n"
     ]
    }
   ],
   "source": [
    "# Question:- 39 Rotate a tuple to the left by `n` positions.\n",
    "\n",
    "def rotate_tuple_left(tup, n):\n",
    "    n = n % len(tup)  # Ensure n is within the length of the tuple\n",
    "    rotated_tuple = tup[n:] + tup[:n]\n",
    "    return rotated_tuple\n",
    "\n",
    "# Example usage:\n",
    "original_tuple = (1, 2, 3, 4, 5)\n",
    "n_positions = 2\n",
    "rotated_tuple = rotate_tuple_left(original_tuple, n_positions)\n",
    "\n",
    "print(\"Original Tuple:\", original_tuple)\n",
    "print(f\"Rotated {n_positions} Positions Left:\", rotated_tuple)"
   ]
  },
  {
   "cell_type": "code",
   "execution_count": 35,
   "id": "cdb46e8b-5ec0-466a-84de-e11e175a345b",
   "metadata": {},
   "outputs": [
    {
     "name": "stdout",
     "output_type": "stream",
     "text": [
      "Original Tuple: (1, 2, 3, 4, 5)\n",
      "Rotated 2 Positions Right: (4, 5, 1, 2, 3)\n"
     ]
    }
   ],
   "source": [
    "# Question:-40 Rotate a tuple to the right by `n` positions\n",
    "\n",
    "def rotate_tuple_right(tup, n):\n",
    "    n = n % len(tup)  # Ensure n is within the length of the tuple\n",
    "    rotated_tuple = tup[-n:] + tup[:-n]\n",
    "    return rotated_tuple\n",
    "\n",
    "# Example usage:\n",
    "original_tuple = (1, 2, 3, 4, 5)\n",
    "n_positions = 2\n",
    "rotated_tuple = rotate_tuple_right(original_tuple, n_positions)\n",
    "\n",
    "print(\"Original Tuple:\", original_tuple)\n",
    "print(f\"Rotated {n_positions} Positions Right:\", rotated_tuple)"
   ]
  },
  {
   "cell_type": "code",
   "execution_count": 36,
   "id": "0f5d9028-02d9-422e-9ab2-d16e54ea0f13",
   "metadata": {},
   "outputs": [
    {
     "name": "stdout",
     "output_type": "stream",
     "text": [
      "First 5 Fibonacci Numbers: (0, 1, 1, 2, 3)\n"
     ]
    }
   ],
   "source": [
    "# Question:- 41 Create a tuple of the first 5 Fibonacci numbers.\n",
    "\n",
    "def generate_fibonacci(n):\n",
    "    fibonacci_sequence = [0, 1]\n",
    "    while len(fibonacci_sequence) < n:\n",
    "        next_number = fibonacci_sequence[-1] + fibonacci_sequence[-2]\n",
    "        fibonacci_sequence.append(next_number)\n",
    "    return tuple(fibonacci_sequence)\n",
    "\n",
    "# Generate the first 5 Fibonacci numbers\n",
    "first_five_fibonacci = generate_fibonacci(5)\n",
    "\n",
    "print(\"First 5 Fibonacci Numbers:\", first_five_fibonacci)"
   ]
  },
  {
   "cell_type": "code",
   "execution_count": 37,
   "id": "e91cfe66-224a-42a7-818f-3617dcef5cac",
   "metadata": {},
   "outputs": [
    {
     "name": "stdin",
     "output_type": "stream",
     "text": [
      "Enter elements separated by commas:  1,2,3,4,5\n"
     ]
    },
    {
     "name": "stdout",
     "output_type": "stream",
     "text": [
      "Tuple from user input: ('1', '2', '3', '4', '5')\n"
     ]
    }
   ],
   "source": [
    "# Question:- 42 Create a tuple from user input.\n",
    "\n",
    "# Get input from the user\n",
    "user_input = input(\"Enter elements separated by commas: \")\n",
    "\n",
    "# Split the input string into a list of elements\n",
    "elements = user_input.split(',')\n",
    "\n",
    "# Convert the list to a tuple\n",
    "user_tuple = tuple(elements)\n",
    "\n",
    "# Display the resulting tuple\n",
    "print(\"Tuple from user input:\", user_tuple)"
   ]
  },
  {
   "cell_type": "code",
   "execution_count": 1,
   "id": "9a951a55-c6ac-4637-9157-f46fec6b6fb4",
   "metadata": {},
   "outputs": [
    {
     "name": "stdout",
     "output_type": "stream",
     "text": [
      "Swapped tuple: (1, 4, 3, 2, 5)\n"
     ]
    }
   ],
   "source": [
    "# Question:- 43 Swap two elements in a tuple. \n",
    "\n",
    "my_tuple = (1, 2, 3, 4, 5)\n",
    "\n",
    "# Swap elements at indices 1 and 3\n",
    "index1 = 1\n",
    "index2 = 3\n",
    "swapped_tuple = tuple(\n",
    "    my_tuple[i] if i not in (index1, index2) else\n",
    "    my_tuple[index2] if i == index1 else\n",
    "    my_tuple[index1]\n",
    "    for i in range(len(my_tuple))\n",
    ")\n",
    "\n",
    "# Print the swapped tuple\n",
    "print(\"Swapped tuple:\", swapped_tuple)"
   ]
  },
  {
   "cell_type": "code",
   "execution_count": 2,
   "id": "dce24568-3f10-4a8d-8acc-d4e09c792eee",
   "metadata": {},
   "outputs": [
    {
     "name": "stdout",
     "output_type": "stream",
     "text": [
      "(1, 2, 3, 4, 5, 6, 7, 8, 9)\n"
     ]
    }
   ],
   "source": [
    "# Question:- 44 Reverse the elements of a tuple.\n",
    "\n",
    "my_tuple = (9,8,7,6,5,4,3,2,1)\n",
    "\n",
    "reversed_tuple = my_tuple[::-1]\n",
    "print(reversed_tuple)"
   ]
  },
  {
   "cell_type": "code",
   "execution_count": 6,
   "id": "b945fa64-1bf2-4c3b-8c53-e4aafb1c3fd6",
   "metadata": {},
   "outputs": [
    {
     "data": {
      "text/plain": [
       "(1, 2, 4, 8, 16, 32, 64, 128, 256, 512)"
      ]
     },
     "execution_count": 6,
     "metadata": {},
     "output_type": "execute_result"
    }
   ],
   "source": [
    "# Question:- 45 Create a tuple of the first `n` powers of 2.\n",
    "\n",
    "def power_tuple(n):\n",
    "    new_tuple = tuple(2**x for x in range(0,n))\n",
    "    return new_tuple\n",
    "    \n",
    "power_tuple(10)"
   ]
  },
  {
   "cell_type": "code",
   "execution_count": 36,
   "id": "fcccb387-7c44-4da3-9d2f-249caf0643da",
   "metadata": {},
   "outputs": [
    {
     "name": "stdout",
     "output_type": "stream",
     "text": [
      "Longest string in tuple is :- longest\n"
     ]
    }
   ],
   "source": [
    "# Question:- 46 Find the longest string in a tuple of strings.\n",
    "\n",
    "string1 = \"Find the longest string in a tuple of string\"\n",
    "main_tuple = tuple(string1.split())\n",
    "\n",
    "longest_string = max(main_tuple,key = len)\n",
    "print(f\"Longest string in tuple is :- {longest_string}\")"
   ]
  },
  {
   "cell_type": "code",
   "execution_count": 37,
   "id": "c1e6ea62-6370-4ea3-a163-8689fdd09bdd",
   "metadata": {},
   "outputs": [
    {
     "name": "stdout",
     "output_type": "stream",
     "text": [
      "Longest string in tuple is :- a\n"
     ]
    }
   ],
   "source": [
    "# Question:- 47 Find the shortest string in a tuple of strings..\n",
    "\n",
    "string1 = \"Find the shortest string in a tuple of strings.\"\n",
    "main_tuple = tuple(string1.split())\n",
    "\n",
    "longest_string = min(main_tuple,key = len)\n",
    "print(f\"Longest string in tuple is :- {longest_string}\")"
   ]
  },
  {
   "cell_type": "code",
   "execution_count": 38,
   "id": "b7a3e6c7-fa9c-4aa8-94fc-39ff5f8d306d",
   "metadata": {},
   "outputs": [
    {
     "name": "stdout",
     "output_type": "stream",
     "text": [
      "Tuple of the first 5 triangular numbers: (1, 3, 6, 10, 15)\n"
     ]
    }
   ],
   "source": [
    "# Question:- 48 Create a tuple of the first `n` triangular numbers.\n",
    "\n",
    "# Define the value of n\n",
    "n = 5\n",
    "\n",
    "# Create a tuple of the first n triangular numbers using a list comprehension\n",
    "triangular_numbers_tuple = tuple((i * (i + 1)) // 2 for i in range(1, n + 1))\n",
    "\n",
    "# Print the tuple of triangular numbers\n",
    "print(\"Tuple of the first\", n, \"triangular numbers:\", triangular_numbers_tuple)"
   ]
  },
  {
   "cell_type": "code",
   "execution_count": 39,
   "id": "a65114a6-ec42-4de3-9f5b-90c191c9e632",
   "metadata": {},
   "outputs": [
    {
     "name": "stdout",
     "output_type": "stream",
     "text": [
      "Main tuple contains subsequence tuple: True\n"
     ]
    }
   ],
   "source": [
    "# Question:- 49 Check if a tuple contains another tuple as a subsequence.\n",
    "\n",
    "# Function to check if a tuple contains another tuple as a subsequence\n",
    "def contains_subsequence(main_tuple, sub_tuple):\n",
    "    sub_length = len(sub_tuple)\n",
    "    for i in range(len(main_tuple) - sub_length + 1):\n",
    "        if main_tuple[i:i+sub_length] == sub_tuple:\n",
    "            return True\n",
    "    return False\n",
    "\n",
    "# Main tuple\n",
    "main_tuple = (1, 2, 3, 4, 5, 6, 7, 8, 9)\n",
    "\n",
    "# Subsequence tuple\n",
    "sub_tuple = (3, 4, 5)\n",
    "\n",
    "# Check if the main tuple contains the subsequence tuple\n",
    "contains_subseq = contains_subsequence(main_tuple, sub_tuple)\n",
    "\n",
    "# Print the result\n",
    "print(\"Main tuple contains subsequence tuple:\", contains_subseq)"
   ]
  },
  {
   "cell_type": "code",
   "execution_count": 41,
   "id": "f1df4a38-6168-4ea5-a261-1b11a377ea7e",
   "metadata": {},
   "outputs": [
    {
     "name": "stdout",
     "output_type": "stream",
     "text": [
      "(0, 1, 0, 1, 0, 1, 0, 1, 0, 1)\n"
     ]
    }
   ],
   "source": [
    "# Question:- 50 Create a tuple of alternating 1s and 0s of length `n`.\n",
    "\n",
    "n = 10\n",
    "\n",
    "main_tuple = tuple(x%2 for x in range(10))\n",
    "print(main_tuple)"
   ]
  },
  {
   "cell_type": "markdown",
   "id": "88e3a0ad-b43d-4b3c-bea8-eda09edc98d3",
   "metadata": {},
   "source": [
    "# Set Based Practice Problems"
   ]
  },
  {
   "cell_type": "code",
   "execution_count": 59,
   "id": "cfbcfd73-bd4a-4807-ad0d-7299ccd404a4",
   "metadata": {},
   "outputs": [
    {
     "name": "stdout",
     "output_type": "stream",
     "text": [
      "{1, 2, 3, 4, 5}\n"
     ]
    }
   ],
   "source": [
    "# Question:- 1 Create a set with integers from 1 to 5.\n",
    "\n",
    "set1 = set()\n",
    "\n",
    "for i in range(1,6):\n",
    "    set1.add(i)\n",
    "    \n",
    "print(set1)"
   ]
  },
  {
   "cell_type": "code",
   "execution_count": 60,
   "id": "367edd95-4c54-4a53-a02a-87b61c5f0c82",
   "metadata": {},
   "outputs": [
    {
     "name": "stdout",
     "output_type": "stream",
     "text": [
      "Original Set :- {1, 2, 3, 4, 5}\n",
      "Set after add of new element :- {1, 2, 3, 4, 5, 6}\n"
     ]
    }
   ],
   "source": [
    "# Question:- 2 Add an element to a set.\n",
    "\n",
    "print(f\"Original Set :- {set1}\")\n",
    "\n",
    "# Add an element to a set.\n",
    "\n",
    "set1.add(6)\n",
    "\n",
    "print(f\"Set after add of new element :- {set1}\")"
   ]
  },
  {
   "cell_type": "code",
   "execution_count": 61,
   "id": "5b7e1377-4854-4cfb-a835-05fec64df859",
   "metadata": {},
   "outputs": [
    {
     "name": "stdout",
     "output_type": "stream",
     "text": [
      "Original Set :- {1, 2, 3, 4, 5, 6}\n",
      "Set after add of new element :- {1, 2, 3, 4, 5}\n"
     ]
    }
   ],
   "source": [
    "# Question:- 3 Remove an element from a set.\n",
    "\n",
    "print(f\"Original Set :- {set1}\")\n",
    "\n",
    "# Remove an element to a set.\n",
    "\n",
    "set1.remove(6)\n",
    "\n",
    "print(f\"Set after add of new element :- {set1}\")"
   ]
  },
  {
   "cell_type": "code",
   "execution_count": 62,
   "id": "03a7eb2b-01e8-41ae-949f-5be905acc57e",
   "metadata": {},
   "outputs": [
    {
     "name": "stdout",
     "output_type": "stream",
     "text": [
      "The 3 exist in {1, 2, 3, 4, 5}\n",
      "The 6 not exist in {1, 2, 3, 4, 5}\n"
     ]
    }
   ],
   "source": [
    "# Question:- 4 Check if a element exists in set\n",
    "\n",
    "check_element = 3\n",
    "\n",
    "def check_element(x):\n",
    "    if x in set1:\n",
    "        print(f\"The {x} exist in {set1}\")\n",
    "    else:\n",
    "        print(f\"The {x} not exist in {set1}\")\n",
    "\n",
    "check_element(3)\n",
    "\n",
    "check_element(6)"
   ]
  },
  {
   "cell_type": "code",
   "execution_count": 63,
   "id": "2a49f95d-9895-42ad-ac65-5a9e78e33b2a",
   "metadata": {},
   "outputs": [
    {
     "name": "stdout",
     "output_type": "stream",
     "text": [
      "Original set {1, 2, 3, 4, 5}\n",
      "Length of the set 5\n"
     ]
    }
   ],
   "source": [
    "# Question:- 5 Find the length of a set without using the `len()` function.\n",
    "\n",
    "print(f\"Original set {set1}\")\n",
    "set_length = 0\n",
    "\n",
    "for i in set1:\n",
    "    set_length += 1\n",
    "    \n",
    "print(f\"Length of the set {set_length}\")"
   ]
  },
  {
   "cell_type": "code",
   "execution_count": 64,
   "id": "1db68b74-5819-463a-960e-fc07474f8fd1",
   "metadata": {},
   "outputs": [
    {
     "name": "stdout",
     "output_type": "stream",
     "text": [
      "set()\n"
     ]
    }
   ],
   "source": [
    "# Question:- 6 Clear all elements from a set.\n",
    "\n",
    "set1.clear()\n",
    "print(set1)"
   ]
  },
  {
   "cell_type": "code",
   "execution_count": 67,
   "id": "4a60d529-c868-4d06-b285-9fe0e39f71f4",
   "metadata": {},
   "outputs": [
    {
     "name": "stdout",
     "output_type": "stream",
     "text": [
      "{2, 4, 6, 8, 10}\n"
     ]
    }
   ],
   "source": [
    "# Question:- 7 Create a set of even numbers from 1 to 10.\n",
    "\n",
    "even_set = set(x for x in range(1,11) if x % 2 == 0)\n",
    "print(even_set)"
   ]
  },
  {
   "cell_type": "code",
   "execution_count": 68,
   "id": "03bb8181-35c2-4988-b665-8dc9f3fe0fe5",
   "metadata": {},
   "outputs": [
    {
     "name": "stdout",
     "output_type": "stream",
     "text": [
      "{1, 3, 5, 7, 9}\n"
     ]
    }
   ],
   "source": [
    "# Question:- 8 Create a set of odd numbers from 1 to 10.\n",
    "\n",
    "odd_set = set(x for x in range(1,11) if x % 2 != 0)\n",
    "print(odd_set)"
   ]
  },
  {
   "cell_type": "code",
   "execution_count": 72,
   "id": "c16e5de0-af85-418a-8ff5-2e5994b6a7bb",
   "metadata": {},
   "outputs": [
    {
     "name": "stdout",
     "output_type": "stream",
     "text": [
      "set1:- {0, 1, 2, 3, 4, 5}\n",
      "set2:- {5, 6, 7, 8, 9, 10}\n",
      "Union of both set :- {0, 1, 2, 3, 4, 5, 6, 7, 8, 9, 10}\n"
     ]
    }
   ],
   "source": [
    "# Question:- 9 Find the union of two sets.\n",
    "\n",
    "set1 = set(x for x in range(0,6))\n",
    "set2 = set(x for x in range(5,11))\n",
    "\n",
    "union_set = set1.union(set2)\n",
    "\n",
    "print(f\"set1:- {set1}\")\n",
    "print(f\"set2:- {set2}\")\n",
    "print(f\"Union of both set :- {union_set}\")"
   ]
  },
  {
   "cell_type": "code",
   "execution_count": 73,
   "id": "d9e0a1a6-8c37-4d90-9930-fa3eab5cfe4c",
   "metadata": {},
   "outputs": [
    {
     "name": "stdout",
     "output_type": "stream",
     "text": [
      "set1:- {0, 1, 2, 3, 4, 5}\n",
      "set2:- {5, 6, 7, 8, 9, 10}\n",
      "intersection of both set :- {5}\n"
     ]
    }
   ],
   "source": [
    "# Question:- 9 Find the intersection of two sets.\n",
    "\n",
    "set1 = set(x for x in range(0,6))\n",
    "set2 = set(x for x in range(5,11))\n",
    "\n",
    "union_set = set1.intersection(set2)\n",
    "\n",
    "print(f\"set1:- {set1}\")\n",
    "print(f\"set2:- {set2}\")\n",
    "print(f\"intersection of both set :- {union_set}\")"
   ]
  },
  {
   "cell_type": "code",
   "execution_count": 1,
   "id": "74226440-2302-4252-8971-21f9062c4fd3",
   "metadata": {},
   "outputs": [
    {
     "name": "stdout",
     "output_type": "stream",
     "text": [
      "set1:- {0, 1, 2, 3, 4, 5}\n",
      "set2:- {5, 6, 7, 8, 9, 10}\n",
      "diffrence of both set :- {0, 1, 2, 3, 4}\n"
     ]
    }
   ],
   "source": [
    "# Question:- 11 Find the difference between two sets.\n",
    "\n",
    "set1 = set(x for x in range(0,6))\n",
    "set2 = set(x for x in range(5,11))\n",
    "\n",
    "union_set = set1.difference(set2)\n",
    "\n",
    "print(f\"set1:- {set1}\")\n",
    "print(f\"set2:- {set2}\")\n",
    "print(f\"diffrence of both set :- {union_set}\")"
   ]
  },
  {
   "cell_type": "code",
   "execution_count": 2,
   "id": "fded894d-cc8a-43e9-8254-b308ef26ce0f",
   "metadata": {},
   "outputs": [
    {
     "name": "stdout",
     "output_type": "stream",
     "text": [
      "set1:- {0, 1, 2, 3, 4, 5}\n",
      "set2:- {5, 6, 7, 8, 9, 10}\n",
      "Is set2 is subset of set1:- False\n"
     ]
    }
   ],
   "source": [
    "# Question:- 12 Check if a set is a subset of another set.\n",
    "\n",
    "set1 = set(x for x in range(0,6))\n",
    "set2 = set(x for x in range(5,11))\n",
    "\n",
    "union_set = set1.issubset(set2)\n",
    "\n",
    "print(f\"set1:- {set1}\")\n",
    "print(f\"set2:- {set2}\")\n",
    "print(f\"Is set2 is subset of set1:- {union_set}\")"
   ]
  },
  {
   "cell_type": "code",
   "execution_count": 1,
   "id": "4a385ce7-dcbe-416f-b403-7b3c171d0e1a",
   "metadata": {},
   "outputs": [
    {
     "name": "stdout",
     "output_type": "stream",
     "text": [
      "set1:- {0, 1, 2, 3, 4, 5}\n",
      "set2:- {5, 6, 7, 8, 9, 10}\n",
      "Is set2 is subset of set1:- False\n"
     ]
    }
   ],
   "source": [
    "# Question:- 13 Check if a set is a superset of another set.\n",
    "\n",
    "set1 = set(x for x in range(0,6))\n",
    "set2 = set(x for x in range(5,11))\n",
    "\n",
    "union_set = set1.issuperset(set2)\n",
    "\n",
    "print(f\"set1:- {set1}\")\n",
    "print(f\"set2:- {set2}\")\n",
    "print(f\"Is set2 is subset of set1:- {union_set}\")"
   ]
  },
  {
   "cell_type": "code",
   "execution_count": 6,
   "id": "a371e8b1-f385-40ef-b0bb-ccc22d6e28b0",
   "metadata": {},
   "outputs": [
    {
     "name": "stdout",
     "output_type": "stream",
     "text": [
      "Original List [1, 2, 3, 4, 5, 6, 6, 6]\n",
      "Converted to set {1, 2, 3, 4, 5, 6}\n"
     ]
    }
   ],
   "source": [
    "# Question:- 14 Create a set from a list.\n",
    "\n",
    "list2 = [1,2,3,4,5,6,6,6]\n",
    "print(f\"Original List {list2}\")\n",
    "print(f\"Converted to set {set(list2)}\")"
   ]
  },
  {
   "cell_type": "code",
   "execution_count": 9,
   "id": "5344b7d2-f964-46b2-9b9b-80ea98d6dd15",
   "metadata": {},
   "outputs": [
    {
     "name": "stdout",
     "output_type": "stream",
     "text": [
      "Original Set {1, 2, 3, 5, 45}\n",
      "Converted a set to a list [1, 2, 3, 5, 45]\n"
     ]
    }
   ],
   "source": [
    "# Question:- 15 Convert a set to a list.\n",
    "\n",
    "new_set = {1,2,3,45,5}\n",
    "print(f\"Original Set {new_set}\")\n",
    "print(f\"Converted a set to a list {list(new_set)}\")"
   ]
  },
  {
   "cell_type": "code",
   "execution_count": 3,
   "id": "531d8c35-1ce3-4b08-8b24-8e55cb3f07ac",
   "metadata": {},
   "outputs": [
    {
     "name": "stdout",
     "output_type": "stream",
     "text": [
      "78\n",
      "{1, 2, 3, 34, 5, 6, 90}\n"
     ]
    }
   ],
   "source": [
    "# Question:- 16 Remove a random element from a set.\n",
    "\n",
    "import random\n",
    "\n",
    "Main_set = {1,2,34,5,6,3,78,3,90,2}\n",
    "\n",
    "random_number = random.choice(list(Main_set))\n",
    "print(random_number)\n",
    "\n",
    "Main_set.remove(random_number)\n",
    "print(Main_set)"
   ]
  },
  {
   "cell_type": "code",
   "execution_count": 7,
   "id": "f9368570-aea8-466a-b865-5df5913c73f1",
   "metadata": {},
   "outputs": [
    {
     "name": "stdout",
     "output_type": "stream",
     "text": [
      "Original Set {2, 3, 34, 5, 6, 90}\n",
      "Set after Pop the element 1 {3, 34, 5, 6, 90}\n"
     ]
    }
   ],
   "source": [
    "# Question:- 17 Pop an element from a set.\n",
    "\n",
    "print(f\"Original Set {Main_set}\")\n",
    "Main_set.pop()\n",
    "print(f\"Set after Pop the element 1 {Main_set}\")"
   ]
  },
  {
   "cell_type": "code",
   "execution_count": 9,
   "id": "35f44071-af0e-49d0-bd55-84db14ab1383",
   "metadata": {},
   "outputs": [
    {
     "name": "stdout",
     "output_type": "stream",
     "text": [
      "This are the Common elements in both the sets {3, 4, 5}\n"
     ]
    }
   ],
   "source": [
    "# Question:- 18 Check if two sets have no elements in common.\n",
    "\n",
    "Set1 = {1,2,3,4,5}\n",
    "Set2 = {3,4,5,6,7}\n",
    "\n",
    "Common_elements = Set1.intersection(Set2)\n",
    "print(f\"This are the Common elements in both the sets {Common_elements}\")"
   ]
  },
  {
   "cell_type": "code",
   "execution_count": 11,
   "id": "1afe6d82-1152-43aa-8bc6-9b7e1062dabf",
   "metadata": {},
   "outputs": [
    {
     "name": "stdout",
     "output_type": "stream",
     "text": [
      "Syemmetric elements between {1, 2, 6, 7}\n"
     ]
    }
   ],
   "source": [
    "# Question:- 19 Find the symmetric difference between two sets.\n",
    "\n",
    "Set1 = {1,2,3,4,5}\n",
    "Set2 = {3,4,5,6,7}\n",
    "\n",
    "Syemmetric_elements = Set1 ^ Set2\n",
    "print(f\"Syemmetric elements between {Syemmetric_elements}\")"
   ]
  },
  {
   "cell_type": "code",
   "execution_count": 15,
   "id": "c8b9415e-b673-4314-9f11-1098c49c5258",
   "metadata": {},
   "outputs": [
    {
     "name": "stdout",
     "output_type": "stream",
     "text": [
      "Set1 {1, 2, 3, 4, 5}\n",
      "Set2 {3, 4, 5, 6, 7}\n",
      "Updated Set2 :- {1, 2, 3, 4, 5, 6, 7}\n"
     ]
    }
   ],
   "source": [
    "# Question:- 20 Update a set with elements from another set.\n",
    "\n",
    "Set1 = {1,2,3,4,5}\n",
    "Set2 = {3,4,5,6,7}\n",
    "\n",
    "print(f\"Set1 {Set1}\\nSet2 {Set2}\")\n",
    "Set1.update(Set2)\n",
    "print(f\"Updated Set2 :- {Set1}\")"
   ]
  },
  {
   "cell_type": "code",
   "execution_count": 16,
   "id": "23df6974-4949-41e3-9ced-34d3dfdd4eca",
   "metadata": {},
   "outputs": [
    {
     "name": "stdout",
     "output_type": "stream",
     "text": [
      "Set of the first 5 prime numbers: {2, 3, 5, 7, 11}\n"
     ]
    }
   ],
   "source": [
    "# Question:- 21 Create a set of the first 5 prime numbers.\n",
    "\n",
    "# Function to check if a number is prime\n",
    "def is_prime(num):\n",
    "    if num <= 1:\n",
    "        return False\n",
    "    for i in range(2, int(num ** 0.5) + 1):\n",
    "        if num % i == 0:\n",
    "            return False\n",
    "    return True\n",
    "\n",
    "# Create an empty set to store the prime numbers\n",
    "prime_set = set()\n",
    "\n",
    "# Initialize the number to start checking for primes\n",
    "num = 2\n",
    "\n",
    "# Loop until we have found the first 5 prime numbers\n",
    "while len(prime_set) < 5:\n",
    "    # Check if the current number is prime using the is_prime function\n",
    "    if is_prime(num):\n",
    "        # If the number is prime, add it to the prime_set\n",
    "        prime_set.add(num)\n",
    "\n",
    "    # Move on to the next number for the next iteration\n",
    "    num += 1\n",
    "\n",
    "# Print the set of prime numbers\n",
    "print(\"Set of the first 5 prime numbers:\", prime_set)"
   ]
  },
  {
   "cell_type": "code",
   "execution_count": 18,
   "id": "001a786e-68f4-49ba-b2c2-9aad5368c006",
   "metadata": {},
   "outputs": [
    {
     "name": "stdout",
     "output_type": "stream",
     "text": [
      "Both the sets are not indentical\n"
     ]
    }
   ],
   "source": [
    "# Question:-22 Check if two sets are identical.\n",
    "\n",
    "Set1 = {1,2,3,4,5}\n",
    "Set2 = {3,4,5,6,7}\n",
    "\n",
    "if Set1==Set2:\n",
    "    print(f\"Both the sets are indentical\")\n",
    "else:\n",
    "    print(f\"Both the sets are not indentical\")"
   ]
  },
  {
   "cell_type": "code",
   "execution_count": 20,
   "id": "f24f5ae1-ebda-4127-aa20-02f20142c7a3",
   "metadata": {},
   "outputs": [
    {
     "name": "stdout",
     "output_type": "stream",
     "text": [
      "Frozen Set :- frozenset({0, 1, 2, 3, 4, 5, 6, 7, 8, 9})\n"
     ]
    }
   ],
   "source": [
    "#Question:- 23 Create a frozen set.\n",
    "\n",
    "import random\n",
    "\n",
    "main_list = [x for x in range(0,10)]\n",
    "\n",
    "Froxen_set = frozenset(main_list)\n",
    "print(f\"Frozen Set :- {Froxen_set}\")"
   ]
  },
  {
   "cell_type": "code",
   "execution_count": 23,
   "id": "b74fdb52-3221-45ba-844b-918741d99845",
   "metadata": {},
   "outputs": [
    {
     "name": "stdout",
     "output_type": "stream",
     "text": [
      "Are the sets disjoint? True\n"
     ]
    }
   ],
   "source": [
    "# Question:- 24 Check if a set is disjoint with another set.\n",
    "\n",
    "set1 = {1, 2, 3, 4}\n",
    "set2 = {5, 6, 7, 8}\n",
    "\n",
    "# Step 2: Use the `isdisjoint()` method to check if the sets are disjoint\n",
    "# The `isdisjoint()` method returns True if the sets have no common elements,\n",
    "# and False if they have at least one common element.\n",
    "disjoint_status = set1.isdisjoint(set2)\n",
    "\n",
    "# Step 3: Print the result\n",
    "print(\"Are the sets disjoint?\", disjoint_status)"
   ]
  },
  {
   "cell_type": "code",
   "execution_count": 28,
   "id": "95a44931-960b-4e23-be07-a02d6e94bad6",
   "metadata": {},
   "outputs": [
    {
     "name": "stdout",
     "output_type": "stream",
     "text": [
      "Square Set :- {1, 4, 9, 16, 25}\n"
     ]
    }
   ],
   "source": [
    "# Questin:- 25 Create a set of squares of numbers from 1 to 5.\n",
    "\n",
    "Square_set = [x**2 for x in range(1,6)]\n",
    "print(f\"Square Set :- {set(Square_set)}\")"
   ]
  },
  {
   "cell_type": "code",
   "execution_count": 33,
   "id": "e2222132-8bd6-40b6-8a22-9a6bc6ffa8be",
   "metadata": {},
   "outputs": [
    {
     "name": "stdout",
     "output_type": "stream",
     "text": [
      "Even Set :- {2, 4, 6, 8, 10, 12, 14, 16, 18, 20}\n"
     ]
    }
   ],
   "source": [
    "# Question:- 26 Filter out all even numbers from a set.\n",
    "\n",
    "Even_set = [x for x in range(1,21) if x%2==0]\n",
    "print(f\"Even Set :- {set(Even_set)}\")"
   ]
  },
  {
   "cell_type": "code",
   "execution_count": 35,
   "id": "67d6e58d-5329-4525-8e9e-78946491a0a2",
   "metadata": {},
   "outputs": [
    {
     "name": "stdout",
     "output_type": "stream",
     "text": [
      "Original Set [2, 4, 6, 8, 10, 12, 14, 16, 18, 20]\n",
      "Multiplied by 2 Set [4, 8, 12, 16, 20, 24, 28, 32, 36, 40]\n"
     ]
    }
   ],
   "source": [
    "# Question:- 27 Multiply all elements in a set by 2.\n",
    "\n",
    "print(f\"Original Set {Even_set}\")\n",
    "Multiply_set = [x*2 for x in Even_set]\n",
    "print(f\"Multiplied by 2 Set {Multiply_set}\")"
   ]
  },
  {
   "cell_type": "code",
   "execution_count": 12,
   "id": "e7c1b791-8bd6-44f3-9647-a475f26b0d22",
   "metadata": {},
   "outputs": [
    {
     "name": "stdout",
     "output_type": "stream",
     "text": [
      "Random Set :- {0, 1, 2, 3, 4, 5, 8, 10}\n"
     ]
    }
   ],
   "source": [
    "# Question:- 28 Create a set of random numbers.\n",
    "\n",
    "import random as r\n",
    "\n",
    "Main_list = [r.randint(0,x) for x in range(0,11)]\n",
    "print(f\"Random Set :- {set(Main_list)}\")"
   ]
  },
  {
   "cell_type": "code",
   "execution_count": 15,
   "id": "ab6d568b-cb6a-4600-8ff6-ae5145f371b3",
   "metadata": {},
   "outputs": [
    {
     "name": "stdout",
     "output_type": "stream",
     "text": [
      "Main_set :- [0, 1, 1, 2, 2, 4, 3, 0, 5, 8, 10]\n",
      "Set is not empty\n"
     ]
    }
   ],
   "source": [
    "# Question:- 29 Check if a set is empty.\n",
    "\n",
    "print(f\"Main_set :- {Main_list}\")\n",
    "if not Main_list:\n",
    "    print(\"Set is empty\")\n",
    "else:\n",
    "    print(\"Set is not empty\")"
   ]
  },
  {
   "cell_type": "code",
   "execution_count": 16,
   "id": "37ac3d6b-e9cb-42c0-b53d-c2a88f979aac",
   "metadata": {},
   "outputs": [
    {
     "name": "stdout",
     "output_type": "stream",
     "text": [
      "Nested Set: {frozenset({1, 2, 3, 4, 5}), frozenset({6, 7, 8, 9, 10})}\n"
     ]
    }
   ],
   "source": [
    "# Question:- 30 Create a nested set (hint: use frozenset).\n",
    "set1 = {1, 2, 3, 4, 5}\n",
    "set2 = {6, 7, 8, 9, 10}\n",
    "\n",
    "# Step 2: Create frozensets from the inner sets\n",
    "frozen_set1 = frozenset(set1)\n",
    "frozen_set2 = frozenset(set2)\n",
    "\n",
    "# Step 3: Create the nested set using the frozensets\n",
    "nested_set = {frozen_set1, frozen_set2}\n",
    "\n",
    "# Print the nested set\n",
    "print(\"Nested Set:\", nested_set)"
   ]
  },
  {
   "cell_type": "code",
   "execution_count": 17,
   "id": "80076d8a-1007-4532-92d5-40453332ee05",
   "metadata": {},
   "outputs": [
    {
     "name": "stdout",
     "output_type": "stream",
     "text": [
      "Initial set: {1, 2, 3, 4, 5}\n",
      "Set after removing 3 : {1, 2, 4, 5}\n"
     ]
    }
   ],
   "source": [
    "# Question:- 31 Remove an element from a set using the discard method.\n",
    "\n",
    "my_set = {1, 2, 3, 4, 5}\n",
    "\n",
    "# Display the initial set\n",
    "print(\"Initial set:\", my_set)\n",
    "\n",
    "# Define the element to be removed\n",
    "element_to_remove = 3\n",
    "\n",
    "# Use the discard() method to remove the element from the set\n",
    "# If the element is not present in the set, discard() won't raise an error\n",
    "my_set.discard(element_to_remove)\n",
    "\n",
    "# Display the set after removing the element\n",
    "print(\"Set after removing\", element_to_remove, \":\", my_set)"
   ]
  },
  {
   "cell_type": "code",
   "execution_count": 18,
   "id": "c0ecf50a-a544-4043-931c-c946add1d075",
   "metadata": {},
   "outputs": [
    {
     "name": "stdout",
     "output_type": "stream",
     "text": [
      "Set 1: {1, 2, 3, 4, 5}\n",
      "Set 2: {4, 5, 6, 7, 8}\n",
      "Is set1 a subset of set2? False\n",
      "Is set2 a subset of set1? False\n",
      "Intersection: {4, 5}\n",
      "Union: {1, 2, 3, 4, 5, 6, 7, 8}\n",
      "Elements in set1 but not in set2: {1, 2, 3}\n",
      "Elements in set2 but not in set1: {8, 6, 7}\n"
     ]
    }
   ],
   "source": [
    "# Question:- 32 Compare two sets.\n",
    "\n",
    "set1 = {1, 2, 3, 4, 5}\n",
    "set2 = {4, 5, 6, 7, 8}\n",
    "\n",
    "# Step 2: Use set operations to compare the sets\n",
    "# Check if set1 is a subset of set2\n",
    "is_subset = set1.issubset(set2)\n",
    "\n",
    "# Check if set2 is a subset of set1\n",
    "is_superset = set1.issuperset(set2)\n",
    "\n",
    "# Find the intersection of the sets\n",
    "intersection = set1.intersection(set2)\n",
    "\n",
    "# Find the union of the sets\n",
    "union = set1.union(set2)\n",
    "\n",
    "# Find the elements that are in set1 but not in set2\n",
    "difference1 = set1.difference(set2)\n",
    "\n",
    "# Find the elements that are in set2 but not in set1\n",
    "difference2 = set2.difference(set1)\n",
    "\n",
    "# Step 3: Print the results\n",
    "print(\"Set 1:\", set1)\n",
    "print(\"Set 2:\", set2)\n",
    "print(\"Is set1 a subset of set2?\", is_subset)\n",
    "print(\"Is set2 a subset of set1?\", is_superset)\n",
    "print(\"Intersection:\", intersection)\n",
    "print(\"Union:\", union)\n",
    "print(\"Elements in set1 but not in set2:\", difference1)\n",
    "print(\"Elements in set2 but not in set1:\", difference2)"
   ]
  },
  {
   "cell_type": "code",
   "execution_count": 4,
   "id": "412b75c8-cc29-4f46-8ac1-fcac84198991",
   "metadata": {},
   "outputs": [
    {
     "name": "stdout",
     "output_type": "stream",
     "text": [
      "Original String:- Create a set from a string\n",
      "String converted into a {'Create', 'from', 'set', 'string', 'a'}\n"
     ]
    }
   ],
   "source": [
    "# Question:- 33 Create a set from a string.\n",
    "\n",
    "String_value = \"Create a set from a string\"\n",
    "print(f\"Original String:- {String_value}\")\n",
    "print(f\"String converted into a {set(String_value.split())}\")"
   ]
  },
  {
   "cell_type": "code",
   "execution_count": 21,
   "id": "3e2ce385-3ceb-46e3-bfe8-1c3719528e33",
   "metadata": {},
   "outputs": [
    {
     "name": "stdout",
     "output_type": "stream",
     "text": [
      "Original Set of strings :- {'789', '123', '456'}\n",
      "String set converted to the integer set :- {456, 123, 789}\n"
     ]
    }
   ],
   "source": [
    "# Question:- 34 Convert a set of strings to a set of integers.\n",
    "\n",
    "String_value = {\"123\",\"456\",\"789\"}\n",
    "\n",
    "Set_value = set()\n",
    "\n",
    "for each in String_value:\n",
    "    Set_value.add(int(each))\n",
    "\n",
    "print(f\"Original Set of strings :- {String_value}\")\n",
    "print(f\"String set converted to the integer set :- {Set_value}\")"
   ]
  },
  {
   "cell_type": "code",
   "execution_count": 24,
   "id": "aa4db543-8efe-430a-acf3-fc6435aa07c6",
   "metadata": {},
   "outputs": [
    {
     "name": "stdout",
     "output_type": "stream",
     "text": [
      "Original Set of Intergers :- {456, 123, 789}\n",
      "integer set converted to the string set :- {'789', '123', '456'}\n"
     ]
    }
   ],
   "source": [
    "# Question:- 35 Convert a set of integers to a set of strings..\n",
    "\n",
    "int_value = {123,456,789}\n",
    "\n",
    "Set_value = set()\n",
    "\n",
    "for each in int_value:\n",
    "    Set_value.add(str(each))\n",
    "\n",
    "print(f\"Original Set of Intergers :- {int_value}\")\n",
    "print(f\"integer set converted to the string set :- {Set_value}\")"
   ]
  },
  {
   "cell_type": "code",
   "execution_count": 26,
   "id": "9ab480a6-7468-4915-baba-fe5b20ce734f",
   "metadata": {},
   "outputs": [
    {
     "name": "stdout",
     "output_type": "stream",
     "text": [
      "Original tuple (1, 2, 3, 4, 5, 6, 7, 8, 9, 0)\n",
      "Tuple converted to the set {0, 1, 2, 3, 4, 5, 6, 7, 8, 9}\n"
     ]
    }
   ],
   "source": [
    "# Question:- 36 Create a set from a tuple.\n",
    "\n",
    "main_tuple = (1,2,3,4,5,6,7,8,9,0)\n",
    "print(f\"Original tuple {main_tuple}\")\n",
    "print(f\"Tuple converted to the set {set(main_tuple)}\")"
   ]
  },
  {
   "cell_type": "code",
   "execution_count": 28,
   "id": "0fe59019-7f7a-4762-bb7d-1afce15f7d7d",
   "metadata": {},
   "outputs": [
    {
     "name": "stdout",
     "output_type": "stream",
     "text": [
      "Original set {0, 1, 2, 3, 4, 5, 6, 7, 8, 9}\n",
      "Set converted to the converted (0, 1, 2, 3, 4, 5, 6, 7, 8, 9)\n"
     ]
    }
   ],
   "source": [
    "# Question:- 37 Convert a set to a tuple.\n",
    "\n",
    "main_set = {1,2,3,4,5,6,7,8,9,0}\n",
    "print(f\"Original set {main_set}\")\n",
    "print(f\"Set converted to the converted {tuple(main_set)}\")"
   ]
  },
  {
   "cell_type": "code",
   "execution_count": 30,
   "id": "555789b1-e39a-4ce9-881f-8f1f44200c06",
   "metadata": {},
   "outputs": [
    {
     "name": "stdout",
     "output_type": "stream",
     "text": [
      "Original set {0, 1, 2, 3, 4, 5, 6, 7, 8, 9}\n",
      "Maximum Value in the set is 9\n"
     ]
    }
   ],
   "source": [
    "# Question:- 38 Find the maximum value in a set.\n",
    "\n",
    "main_set = {1,2,3,4,5,6,7,8,9,0}\n",
    "print(f\"Original set {main_set}\")\n",
    "print(f\"Maximum Value in the set is {max(main_set)}\")"
   ]
  },
  {
   "cell_type": "code",
   "execution_count": 31,
   "id": "26fa00c0-d257-4ceb-a75a-17d466e6c12f",
   "metadata": {},
   "outputs": [
    {
     "name": "stdout",
     "output_type": "stream",
     "text": [
      "Original set {0, 1, 2, 3, 4, 5, 6, 7, 8, 9}\n",
      "Minimum Value in the set is 0\n"
     ]
    }
   ],
   "source": [
    "# Question:- 39 Find the minimum value in a set..\n",
    "\n",
    "main_set = {1,2,3,4,5,6,7,8,9,0}\n",
    "print(f\"Original set {main_set}\")\n",
    "print(f\"Minimum Value in the set is {min(main_set)}\")"
   ]
  },
  {
   "cell_type": "code",
   "execution_count": 32,
   "id": "afa8a4cb-c4b7-4240-bcf0-823e64531761",
   "metadata": {},
   "outputs": [
    {
     "name": "stdin",
     "output_type": "stream",
     "text": [
      "Enter the Value in the set 34\n"
     ]
    },
    {
     "name": "stdout",
     "output_type": "stream",
     "text": [
      "34 added in the set {'34'}\n"
     ]
    }
   ],
   "source": [
    "# Question:- 40 Create a set from user input.\n",
    "\n",
    "set_input = input(\"Enter the Value in the set\")\n",
    "main_set = set()\n",
    "main_set.add(set_input)\n",
    "print(f\"{set_input} added in the set {main_set}\")"
   ]
  },
  {
   "cell_type": "code",
   "execution_count": 33,
   "id": "7b7aa00f-d40a-44df-8ddf-0e9571081f77",
   "metadata": {},
   "outputs": [
    {
     "name": "stdout",
     "output_type": "stream",
     "text": [
      "The intersection of the two sets is not empty.\n"
     ]
    }
   ],
   "source": [
    "# Question:- 41 Check if the intersection of two sets is empty.\n",
    "\n",
    "set1 = {1, 2, 3, 4, 5}\n",
    "set2 = {4, 5, 6, 7, 8}\n",
    "\n",
    "# Step 2: Find the intersection of the two sets using the `intersection()` method\n",
    "intersection_result = set1.intersection(set2)\n",
    "\n",
    "# Step 3: Check if the intersection result is empty\n",
    "if not intersection_result:\n",
    "    print(\"The intersection of the two sets is empty.\")\n",
    "else:\n",
    "    print(\"The intersection of the two sets is not empty.\")"
   ]
  },
  {
   "cell_type": "code",
   "execution_count": 56,
   "id": "908e5831-498c-4802-a4e0-e28d1e7ca849",
   "metadata": {},
   "outputs": [
    {
     "name": "stdout",
     "output_type": "stream",
     "text": [
      "0 1\n",
      "1 1\n",
      "2 2\n",
      "3 3\n",
      "4 5\n"
     ]
    },
    {
     "data": {
      "text/plain": [
       "{0, 1, 2, 3, 5, 8}"
      ]
     },
     "execution_count": 56,
     "metadata": {},
     "output_type": "execute_result"
    }
   ],
   "source": [
    "# Question:- 42 Create a set of the first 5 Fibonacci numbers.\n",
    "\n",
    "def fibonnacci_set(n):\n",
    "    list_sequence = [0,1]\n",
    "    for i in range(n):\n",
    "        print(i, list_sequence[-1])\n",
    "        list_sequence.append(list_sequence[-2] + list_sequence[-1])\n",
    "    \n",
    "    return set(list_sequence)\n",
    "\n",
    "fibonnacci_set(5)"
   ]
  },
  {
   "cell_type": "code",
   "execution_count": 58,
   "id": "3d58b777-3281-4147-9a7a-e95c0376abbf",
   "metadata": {},
   "outputs": [
    {
     "name": "stdout",
     "output_type": "stream",
     "text": [
      "Original list :- [1, 2, 3, 3, 4, 5, 5, 6, 3, 56, 8, 92, 23, 55, 67]\n",
      "removed duplicate from teh set {1, 2, 3, 4, 5, 6, 67, 8, 55, 23, 56, 92}\n"
     ]
    }
   ],
   "source": [
    "# Question:- 43 Remove duplicates from a list using sets.\n",
    "\n",
    "main_list = [1,2,3,3,4,5,5,6,3,56,8,92,23,55,67]\n",
    "print(f\"Original list :- {main_list}\")\n",
    "print(f\"removed duplicate from teh set {set(main_list)}\")"
   ]
  },
  {
   "cell_type": "code",
   "execution_count": 60,
   "id": "09d17ef5-786b-4e25-826c-ecd7756ecf7d",
   "metadata": {},
   "outputs": [
    {
     "name": "stdout",
     "output_type": "stream",
     "text": [
      "The sets have the same elements.\n"
     ]
    }
   ],
   "source": [
    "# Question:- 44 Check if two sets have the same elements, regardless of their count.\n",
    "\n",
    "def have_same_elements(set1, set2):\n",
    "    # Convert the sets to lists and sort them\n",
    "    sorted_list1 = sorted(list(set1))\n",
    "    sorted_list2 = sorted(list(set2))\n",
    "\n",
    "    # Compare the sorted lists to check if they are equal\n",
    "    return sorted_list1 == sorted_list2\n",
    "\n",
    "# Example sets\n",
    "set1 = {1, 2, 3, 2, 1}\n",
    "set2 = {3, 1, 2}\n",
    "\n",
    "# Check if the sets have the same elements\n",
    "result = have_same_elements(set1, set2)\n",
    "\n",
    "# Print the result\n",
    "if result:\n",
    "    print(\"The sets have the same elements.\")\n",
    "else:\n",
    "    print(\"The sets do not have the same elements.\")"
   ]
  },
  {
   "cell_type": "code",
   "execution_count": 64,
   "id": "2bfc0f8f-05ea-4461-9b4e-60f8e1c09d65",
   "metadata": {},
   "outputs": [
    {
     "name": "stdout",
     "output_type": "stream",
     "text": [
      "set of the first `n` powers of 2 [1, 2, 4, 8, 16, 32, 64, 128, 256, 512]\n"
     ]
    }
   ],
   "source": [
    "# Question:- 45 Create a set of the first `n` powers of 2.\n",
    "\n",
    "power_list = [2**x for x in range(0,10)]\n",
    "print(f\"set of the first `n` powers of 2 {sorted(set(power_list))}\")"
   ]
  },
  {
   "cell_type": "code",
   "execution_count": 66,
   "id": "779a76c5-0b34-4ab7-8c0b-62efe7185815",
   "metadata": {},
   "outputs": [
    {
     "name": "stdout",
     "output_type": "stream",
     "text": [
      "Common elements: [1, 12]\n"
     ]
    }
   ],
   "source": [
    "# Question:- 46 Find the common elements between a set and a list.\n",
    "\n",
    "my_set = {1, 2, 12, 2, 1}\n",
    "my_list = [1,7, 12, 5, 9]\n",
    "\n",
    "# Step 2: Convert the list to a set for efficient comparison\n",
    "list_to_set = set(my_list)\n",
    "\n",
    "# Step 3: Initialize an empty list to store common elements\n",
    "common_elements = []\n",
    "\n",
    "# Step 4: Iterate through the elements in the set\n",
    "for element in my_set:\n",
    "    # Step 5: Check if the element is present in the converted set (list_to_set)\n",
    "    if element in list_to_set:\n",
    "        # Step 6: If the element is present in both the set and the list, add it to the common_elements list\n",
    "        common_elements.append(element)\n",
    "\n",
    "# Step 7: Print the common elements\n",
    "print(\"Common elements:\", common_elements)"
   ]
  },
  {
   "cell_type": "code",
   "execution_count": 67,
   "id": "e524f800-979c-42f5-8c20-4d4396c0eedb",
   "metadata": {},
   "outputs": [
    {
     "name": "stdin",
     "output_type": "stream",
     "text": [
      "Enter the value of n:  5\n"
     ]
    },
    {
     "name": "stdout",
     "output_type": "stream",
     "text": [
      "The set of the first 5 triangular numbers is: {1, 3, 6, 10, 15}\n"
     ]
    }
   ],
   "source": [
    "# Question:- 47 Create a set of the first `n` triangular numbers.\n",
    "\n",
    "def generate_triangular_numbers(n):\n",
    "    triangular_numbers = set()  # Create an empty set to store the triangular numbers\n",
    "    for i in range(1, n + 1):\n",
    "        triangular_number = i * (i + 1) // 2  # Calculate the ith triangular number using the formula\n",
    "        triangular_numbers.add(triangular_number)  # Add the calculated triangular number to the set\n",
    "    return triangular_numbers\n",
    "\n",
    "# Input the value of 'n'\n",
    "n = int(input(\"Enter the value of n: \"))\n",
    "\n",
    "# Call the function to generate the set of first 'n' triangular numbers\n",
    "triangular_set = generate_triangular_numbers(n)\n",
    "\n",
    "# Display the set of triangular numbers\n",
    "print(f\"The set of the first {n} triangular numbers is:\", triangular_set)"
   ]
  },
  {
   "cell_type": "code",
   "execution_count": 68,
   "id": "b47ca347-3f84-4fcd-9d40-4fb41c2f7aa7",
   "metadata": {},
   "outputs": [
    {
     "name": "stdout",
     "output_type": "stream",
     "text": [
      "set2 is a subset of set1\n"
     ]
    }
   ],
   "source": [
    "# Question:- 48 Check if a set contains another set as a subset.\n",
    "\n",
    "set1 = {1, 2, 3, 4, 5}\n",
    "set2 = {3, 4}\n",
    "\n",
    "# Check if set2 is a subset of set1\n",
    "is_subset = set2.issubset(set1)\n",
    "\n",
    "# Print the result\n",
    "if is_subset:\n",
    "    print(\"set2 is a subset of set1\")\n",
    "else:\n",
    "    print(\"set2 is not a subset of set1\")"
   ]
  },
  {
   "cell_type": "code",
   "execution_count": 69,
   "id": "e2787cc7-3a15-49a1-b7d6-611fed377625",
   "metadata": {},
   "outputs": [
    {
     "name": "stdout",
     "output_type": "stream",
     "text": [
      "{0, 1}\n"
     ]
    }
   ],
   "source": [
    "# Question:- 49 Create a set of alternating 1s and 0s of length `n`.\n",
    "\n",
    "def create_alternating_set(n):\n",
    "    # Initialize an empty set to store the alternating sequence.\n",
    "    alternating_set = set()\n",
    "\n",
    "    # Loop to generate alternating 1s and 0s.\n",
    "    for i in range(n):\n",
    "        # Alternate between adding 1 and 0 to the set based on whether i is even or odd.\n",
    "        if i % 2 == 0:\n",
    "            alternating_set.add(1)  # Add 1 if i is even.\n",
    "        else:\n",
    "            alternating_set.add(0)  # Add 0 if i is odd.\n",
    "\n",
    "    return alternating_set\n",
    "\n",
    "# Define the desired length of the alternating set.\n",
    "length_n = 10\n",
    "\n",
    "# Call the function to create the alternating set of length 'length_n'.\n",
    "result = create_alternating_set(length_n)\n",
    "\n",
    "# Print the resulting set.\n",
    "print(result)"
   ]
  },
  {
   "cell_type": "code",
   "execution_count": 71,
   "id": "71a37b32-abfb-4381-87b4-fe5d252962ef",
   "metadata": {},
   "outputs": [
    {
     "name": "stdout",
     "output_type": "stream",
     "text": [
      "Merged Set: {1, 2, 3, 4, 5, 6, 7}\n"
     ]
    }
   ],
   "source": [
    "# Question:- 50 Merge multiple sets into one.\n",
    "set1 = {1, 2, 3}\n",
    "set2 = {3, 4, 5}\n",
    "set3 = {5, 6, 7}\n",
    "\n",
    "# Step 2: Use the union() method to merge sets\n",
    "merged_set = set1.union(set2, set3)\n",
    "\n",
    "# Alternatively, you can use the | operator\n",
    "# merged_set = set1 | set2 | set3\n",
    "\n",
    "# Step 3: Print the merged set\n",
    "print(\"Merged Set:\", merged_set)"
   ]
  }
 ],
 "metadata": {
  "kernelspec": {
   "display_name": "Python 3 (ipykernel)",
   "language": "python",
   "name": "python3"
  },
  "language_info": {
   "codemirror_mode": {
    "name": "ipython",
    "version": 3
   },
   "file_extension": ".py",
   "mimetype": "text/x-python",
   "name": "python",
   "nbconvert_exporter": "python",
   "pygments_lexer": "ipython3",
   "version": "3.10.8"
  }
 },
 "nbformat": 4,
 "nbformat_minor": 5
}

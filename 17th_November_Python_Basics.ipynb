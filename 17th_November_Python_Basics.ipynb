{
 "cells": [
  {
   "cell_type": "code",
   "execution_count": null,
   "id": "09792717-f4d4-466f-916f-af0a010568cc",
   "metadata": {},
   "outputs": [],
   "source": [
    "# Python Basic Variable "
   ]
  },
  {
   "cell_type": "code",
   "execution_count": 5,
   "id": "eec29bce-9e09-46fc-9422-48be22748c2e",
   "metadata": {
    "tags": []
   },
   "outputs": [
    {
     "name": "stdout",
     "output_type": "stream",
     "text": [
      "x: 10\n",
      "y: 5\n"
     ]
    }
   ],
   "source": [
    "# Question:- 1 Swap values without using another variable\n",
    "x = 5\n",
    "y = 10\n",
    "\n",
    "x, y = y, x  # Created a tuple (x,y) and assigning a values to each other (10,5)\n",
    "\n",
    "# Now, x holds the value of y, and y holds the value of x\n",
    "print(\"x:\", x)\n",
    "print(\"y:\", y)"
   ]
  },
  {
   "cell_type": "code",
   "execution_count": 10,
   "id": "ac7f1c18-eb16-4e39-9bd7-c03c8ac83d77",
   "metadata": {
    "tags": []
   },
   "outputs": [
    {
     "name": "stdin",
     "output_type": "stream",
     "text": [
      "Enter the length of a rectangle in meter 2\n",
      "Enter the breath of a rectangle in meter 3\n"
     ]
    },
    {
     "name": "stdout",
     "output_type": "stream",
     "text": [
      "Area of a rectangle is 6 sqaure meter \n"
     ]
    }
   ],
   "source": [
    "# Question:- 2 Calculates the area of a rectangle\n",
    "\n",
    "l = input(\"Enter the length of a rectangle in meter\")\n",
    "b = input(\"Enter the breath of a rectangle in meter\")\n",
    "print(f\"Area of a rectangle is {int(l) * int(b)} square meter \")"
   ]
  },
  {
   "cell_type": "code",
   "execution_count": 17,
   "id": "bed9f40f-8ac7-4f8c-a45b-208871718987",
   "metadata": {
    "tags": []
   },
   "outputs": [
    {
     "name": "stdin",
     "output_type": "stream",
     "text": [
      "Enter the value of temperature in Celsius 20\n"
     ]
    },
    {
     "name": "stdout",
     "output_type": "stream",
     "text": [
      "Temperature is 68.0 degree Fahrenheit\n"
     ]
    }
   ],
   "source": [
    "# Question:- 3 Take the user input and convert temperature from celcius into fahrenheit\n",
    "\n",
    "celsius = input(\"Enter the value of temperature in Celsius\")\n",
    "print(f\"Temperature is {int(celsius)*(9/5) + 32} degree Fahrenheit\")"
   ]
  },
  {
   "cell_type": "code",
   "execution_count": null,
   "id": "714db241-0298-4f8a-bc19-823339c04331",
   "metadata": {},
   "outputs": [],
   "source": [
    "# String based question"
   ]
  },
  {
   "cell_type": "code",
   "execution_count": 18,
   "id": "16b60a8f-c1ed-4cc5-a6b1-8ff13368e655",
   "metadata": {
    "tags": []
   },
   "outputs": [
    {
     "name": "stdin",
     "output_type": "stream",
     "text": [
      "Enter the String first program\n"
     ]
    },
    {
     "name": "stdout",
     "output_type": "stream",
     "text": [
      "length of a string is 13\n"
     ]
    }
   ],
   "source": [
    "# Question:- 1 Find the length of a string\n",
    "\n",
    "data = input(\"Enter the String\")\n",
    "print(f\"Length of a string is {len(data)}\")"
   ]
  },
  {
   "cell_type": "code",
   "execution_count": 3,
   "id": "2a4adc4f-d4db-41a4-8c50-01f6b7aacc71",
   "metadata": {
    "tags": []
   },
   "outputs": [
    {
     "name": "stdout",
     "output_type": "stream",
     "text": [
      "The number of vowels in 'This is a Second String Based question' is: 12\n"
     ]
    }
   ],
   "source": [
    "# Question:- 2 Counts the number of vowel in the string\n",
    "text = \"This is a Second String Based question\"\n",
    "\n",
    "# Count vowels without using loop or function\n",
    "vowel_count = sum(text.lower().count(vowel) for vowel in \"aeiou\")\n",
    "\n",
    "print(f\"The number of vowels in '{text}' is: {vowel_count}\")\n"
   ]
  },
  {
   "cell_type": "code",
   "execution_count": 6,
   "id": "7fe35f43-4aa9-4ea3-bb5d-68200846b4c6",
   "metadata": {
    "tags": []
   },
   "outputs": [
    {
     "name": "stdout",
     "output_type": "stream",
     "text": [
      "noitseuQ drihT\n"
     ]
    }
   ],
   "source": [
    "# Question:- 3 Reverse the character of string using string slicing\n",
    "\n",
    "text = \"Third Question\"\n",
    "print(text[::-1])"
   ]
  },
  {
   "cell_type": "code",
   "execution_count": 13,
   "id": "1403dbdc-60d8-4d0f-a0a5-e10479321e5b",
   "metadata": {
    "tags": []
   },
   "outputs": [
    {
     "name": "stdin",
     "output_type": "stream",
     "text": [
      "Enter the string MADAM\n"
     ]
    },
    {
     "name": "stdout",
     "output_type": "stream",
     "text": [
      "MADAM is a palindrome.\n"
     ]
    }
   ],
   "source": [
    "# Question:- 4 Check the string is palindrome or not\n",
    "\n",
    "word = input(\"Enter the string\")\n",
    "\n",
    "# Check if the word is a palindrome\n",
    "is_palindrome = word.lower() == word.lower()[::-1]\n",
    "\n",
    "if is_palindrome is True:\n",
    "    print(f\"{word} is a palindrome.\")\n",
    "else:\n",
    "    print(f\"{word} is not a palindrome.\")"
   ]
  },
  {
   "cell_type": "code",
   "execution_count": 21,
   "id": "d03e9176-243a-4593-ade8-b83b9b51689b",
   "metadata": {
    "tags": []
   },
   "outputs": [
    {
     "name": "stdout",
     "output_type": "stream",
     "text": [
      "Thisisthefifthquestion\n"
     ]
    }
   ],
   "source": [
    "# Question:- 5 Remove the spaces from the string\n",
    "\n",
    "word = \"This is the fifth question\"\n",
    "print(word.replace(\" \", \"\"))\n"
   ]
  }
 ],
 "metadata": {
  "kernelspec": {
   "display_name": "Python 3 (ipykernel)",
   "language": "python",
   "name": "python3"
  },
  "language_info": {
   "codemirror_mode": {
    "name": "ipython",
    "version": 3
   },
   "file_extension": ".py",
   "mimetype": "text/x-python",
   "name": "python",
   "nbconvert_exporter": "python",
   "pygments_lexer": "ipython3",
   "version": "3.11.4"
  }
 },
 "nbformat": 4,
 "nbformat_minor": 5
}
